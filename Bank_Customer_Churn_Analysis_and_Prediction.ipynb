{
  "nbformat": 4,
  "nbformat_minor": 0,
  "metadata": {
    "colab": {
      "provenance": [],
      "authorship_tag": "ABX9TyPOoWetslZsoEpjM+ZsuBSn",
      "include_colab_link": true
    },
    "kernelspec": {
      "name": "python3",
      "display_name": "Python 3"
    },
    "language_info": {
      "name": "python"
    }
  },
  "cells": [
    {
      "cell_type": "markdown",
      "metadata": {
        "id": "view-in-github",
        "colab_type": "text"
      },
      "source": [
        "<a href=\"https://colab.research.google.com/github/yuzhenke1122/supervised_ml_bank_churn/blob/main/Bank_Customer_Churn_Analysis_and_Prediction.ipynb\" target=\"_parent\"><img src=\"https://colab.research.google.com/assets/colab-badge.svg\" alt=\"Open In Colab\"/></a>"
      ]
    },
    {
      "cell_type": "markdown",
      "source": [
        "# Part 0: Load Packages and Data"
      ],
      "metadata": {
        "id": "gqaIOGIWrJ6l"
      }
    },
    {
      "cell_type": "markdown",
      "source": [
        "data source: https://www.kaggle.com/datasets/adammaus/predicting-churn-for-bank-customers"
      ],
      "metadata": {
        "id": "aFDBfAE9gpZX"
      }
    },
    {
      "cell_type": "code",
      "source": [
        "import numpy as np\n",
        "import pandas as pd\n",
        "import matplotlib.pyplot as plt\n",
        "import seaborn as sns\n",
        "from sklearn import model_selection\n",
        "from sklearn.preprocessing import OneHotEncoder\n",
        "from sklearn.preprocessing import StandardScaler\n",
        "from sklearn.linear_model import LogisticRegression\n",
        "from sklearn.ensemble import RandomForestClassifier\n",
        "from sklearn.neighbors import KNeighborsClassifier\n",
        "from sklearn.model_selection import GridSearchCV\n",
        "from sklearn.metrics import confusion_matrix\n",
        "from sklearn.metrics import classification_report\n",
        "from sklearn.metrics import precision_score\n",
        "from sklearn.metrics import recall_score\n",
        "from sklearn.metrics import roc_curve\n",
        "from sklearn import metrics\n",
        "import matplotlib.pyplot as plt"
      ],
      "metadata": {
        "id": "LSv0YNIyfqdn"
      },
      "execution_count": null,
      "outputs": []
    },
    {
      "cell_type": "code",
      "execution_count": null,
      "metadata": {
        "id": "O3EbJmvwnmwk"
      },
      "outputs": [],
      "source": [
        "!pip install -U -q PyDrive\n",
        "\n",
        "from pydrive.auth import GoogleAuth\n",
        "from pydrive.drive import GoogleDrive\n",
        "from google.colab import auth\n",
        "from oauth2client.client import GoogleCredentials\n",
        "\n",
        "auth.authenticate_user()\n",
        "gauth = GoogleAuth()\n",
        "gauth.credentials = GoogleCredentials.get_application_default()\n",
        "drive = GoogleDrive(gauth)"
      ]
    },
    {
      "cell_type": "code",
      "source": [
        "# https://drive.google.com/file/d/1Zw7tFqGjMw1vehzSenadec9oZrX0Q8jd/view?usp=sharing\n",
        "id = \"1Zw7tFqGjMw1vehzSenadec9oZrX0Q8jd\"\n",
        "file = drive.CreateFile({'id':id}) \n",
        "file.GetContentFile('bank_churn.csv')"
      ],
      "metadata": {
        "id": "Q6IcPN_rdZS2"
      },
      "execution_count": null,
      "outputs": []
    },
    {
      "cell_type": "code",
      "source": [
        "bank_data = pd.read_csv('bank_churn.csv')\n",
        "bank_data.head()"
      ],
      "metadata": {
        "colab": {
          "base_uri": "https://localhost:8080/",
          "height": 270
        },
        "id": "8NhaeXplddQP",
        "outputId": "9d0f37d1-3d34-4656-efda-1700dc16c676"
      },
      "execution_count": null,
      "outputs": [
        {
          "output_type": "execute_result",
          "data": {
            "text/plain": [
              "   RowNumber  CustomerId   Surname  CreditScore Geography  Gender  Age  \\\n",
              "0          1    15634602  Hargrave          619    France  Female   42   \n",
              "1          2    15647311      Hill          608     Spain  Female   41   \n",
              "2          3    15619304      Onio          502    France  Female   42   \n",
              "3          4    15701354      Boni          699    France  Female   39   \n",
              "4          5    15737888  Mitchell          850     Spain  Female   43   \n",
              "\n",
              "   Tenure    Balance  NumOfProducts  HasCrCard  IsActiveMember  \\\n",
              "0       2       0.00              1          1               1   \n",
              "1       1   83807.86              1          0               1   \n",
              "2       8  159660.80              3          1               0   \n",
              "3       1       0.00              2          0               0   \n",
              "4       2  125510.82              1          1               1   \n",
              "\n",
              "   EstimatedSalary  Exited  \n",
              "0        101348.88       1  \n",
              "1        112542.58       0  \n",
              "2        113931.57       1  \n",
              "3         93826.63       0  \n",
              "4         79084.10       0  "
            ],
            "text/html": [
              "\n",
              "  <div id=\"df-4cec29a3-a99c-40a8-bcf6-876eb0466c28\">\n",
              "    <div class=\"colab-df-container\">\n",
              "      <div>\n",
              "<style scoped>\n",
              "    .dataframe tbody tr th:only-of-type {\n",
              "        vertical-align: middle;\n",
              "    }\n",
              "\n",
              "    .dataframe tbody tr th {\n",
              "        vertical-align: top;\n",
              "    }\n",
              "\n",
              "    .dataframe thead th {\n",
              "        text-align: right;\n",
              "    }\n",
              "</style>\n",
              "<table border=\"1\" class=\"dataframe\">\n",
              "  <thead>\n",
              "    <tr style=\"text-align: right;\">\n",
              "      <th></th>\n",
              "      <th>RowNumber</th>\n",
              "      <th>CustomerId</th>\n",
              "      <th>Surname</th>\n",
              "      <th>CreditScore</th>\n",
              "      <th>Geography</th>\n",
              "      <th>Gender</th>\n",
              "      <th>Age</th>\n",
              "      <th>Tenure</th>\n",
              "      <th>Balance</th>\n",
              "      <th>NumOfProducts</th>\n",
              "      <th>HasCrCard</th>\n",
              "      <th>IsActiveMember</th>\n",
              "      <th>EstimatedSalary</th>\n",
              "      <th>Exited</th>\n",
              "    </tr>\n",
              "  </thead>\n",
              "  <tbody>\n",
              "    <tr>\n",
              "      <th>0</th>\n",
              "      <td>1</td>\n",
              "      <td>15634602</td>\n",
              "      <td>Hargrave</td>\n",
              "      <td>619</td>\n",
              "      <td>France</td>\n",
              "      <td>Female</td>\n",
              "      <td>42</td>\n",
              "      <td>2</td>\n",
              "      <td>0.00</td>\n",
              "      <td>1</td>\n",
              "      <td>1</td>\n",
              "      <td>1</td>\n",
              "      <td>101348.88</td>\n",
              "      <td>1</td>\n",
              "    </tr>\n",
              "    <tr>\n",
              "      <th>1</th>\n",
              "      <td>2</td>\n",
              "      <td>15647311</td>\n",
              "      <td>Hill</td>\n",
              "      <td>608</td>\n",
              "      <td>Spain</td>\n",
              "      <td>Female</td>\n",
              "      <td>41</td>\n",
              "      <td>1</td>\n",
              "      <td>83807.86</td>\n",
              "      <td>1</td>\n",
              "      <td>0</td>\n",
              "      <td>1</td>\n",
              "      <td>112542.58</td>\n",
              "      <td>0</td>\n",
              "    </tr>\n",
              "    <tr>\n",
              "      <th>2</th>\n",
              "      <td>3</td>\n",
              "      <td>15619304</td>\n",
              "      <td>Onio</td>\n",
              "      <td>502</td>\n",
              "      <td>France</td>\n",
              "      <td>Female</td>\n",
              "      <td>42</td>\n",
              "      <td>8</td>\n",
              "      <td>159660.80</td>\n",
              "      <td>3</td>\n",
              "      <td>1</td>\n",
              "      <td>0</td>\n",
              "      <td>113931.57</td>\n",
              "      <td>1</td>\n",
              "    </tr>\n",
              "    <tr>\n",
              "      <th>3</th>\n",
              "      <td>4</td>\n",
              "      <td>15701354</td>\n",
              "      <td>Boni</td>\n",
              "      <td>699</td>\n",
              "      <td>France</td>\n",
              "      <td>Female</td>\n",
              "      <td>39</td>\n",
              "      <td>1</td>\n",
              "      <td>0.00</td>\n",
              "      <td>2</td>\n",
              "      <td>0</td>\n",
              "      <td>0</td>\n",
              "      <td>93826.63</td>\n",
              "      <td>0</td>\n",
              "    </tr>\n",
              "    <tr>\n",
              "      <th>4</th>\n",
              "      <td>5</td>\n",
              "      <td>15737888</td>\n",
              "      <td>Mitchell</td>\n",
              "      <td>850</td>\n",
              "      <td>Spain</td>\n",
              "      <td>Female</td>\n",
              "      <td>43</td>\n",
              "      <td>2</td>\n",
              "      <td>125510.82</td>\n",
              "      <td>1</td>\n",
              "      <td>1</td>\n",
              "      <td>1</td>\n",
              "      <td>79084.10</td>\n",
              "      <td>0</td>\n",
              "    </tr>\n",
              "  </tbody>\n",
              "</table>\n",
              "</div>\n",
              "      <button class=\"colab-df-convert\" onclick=\"convertToInteractive('df-4cec29a3-a99c-40a8-bcf6-876eb0466c28')\"\n",
              "              title=\"Convert this dataframe to an interactive table.\"\n",
              "              style=\"display:none;\">\n",
              "        \n",
              "  <svg xmlns=\"http://www.w3.org/2000/svg\" height=\"24px\"viewBox=\"0 0 24 24\"\n",
              "       width=\"24px\">\n",
              "    <path d=\"M0 0h24v24H0V0z\" fill=\"none\"/>\n",
              "    <path d=\"M18.56 5.44l.94 2.06.94-2.06 2.06-.94-2.06-.94-.94-2.06-.94 2.06-2.06.94zm-11 1L8.5 8.5l.94-2.06 2.06-.94-2.06-.94L8.5 2.5l-.94 2.06-2.06.94zm10 10l.94 2.06.94-2.06 2.06-.94-2.06-.94-.94-2.06-.94 2.06-2.06.94z\"/><path d=\"M17.41 7.96l-1.37-1.37c-.4-.4-.92-.59-1.43-.59-.52 0-1.04.2-1.43.59L10.3 9.45l-7.72 7.72c-.78.78-.78 2.05 0 2.83L4 21.41c.39.39.9.59 1.41.59.51 0 1.02-.2 1.41-.59l7.78-7.78 2.81-2.81c.8-.78.8-2.07 0-2.86zM5.41 20L4 18.59l7.72-7.72 1.47 1.35L5.41 20z\"/>\n",
              "  </svg>\n",
              "      </button>\n",
              "      \n",
              "  <style>\n",
              "    .colab-df-container {\n",
              "      display:flex;\n",
              "      flex-wrap:wrap;\n",
              "      gap: 12px;\n",
              "    }\n",
              "\n",
              "    .colab-df-convert {\n",
              "      background-color: #E8F0FE;\n",
              "      border: none;\n",
              "      border-radius: 50%;\n",
              "      cursor: pointer;\n",
              "      display: none;\n",
              "      fill: #1967D2;\n",
              "      height: 32px;\n",
              "      padding: 0 0 0 0;\n",
              "      width: 32px;\n",
              "    }\n",
              "\n",
              "    .colab-df-convert:hover {\n",
              "      background-color: #E2EBFA;\n",
              "      box-shadow: 0px 1px 2px rgba(60, 64, 67, 0.3), 0px 1px 3px 1px rgba(60, 64, 67, 0.15);\n",
              "      fill: #174EA6;\n",
              "    }\n",
              "\n",
              "    [theme=dark] .colab-df-convert {\n",
              "      background-color: #3B4455;\n",
              "      fill: #D2E3FC;\n",
              "    }\n",
              "\n",
              "    [theme=dark] .colab-df-convert:hover {\n",
              "      background-color: #434B5C;\n",
              "      box-shadow: 0px 1px 3px 1px rgba(0, 0, 0, 0.15);\n",
              "      filter: drop-shadow(0px 1px 2px rgba(0, 0, 0, 0.3));\n",
              "      fill: #FFFFFF;\n",
              "    }\n",
              "  </style>\n",
              "\n",
              "      <script>\n",
              "        const buttonEl =\n",
              "          document.querySelector('#df-4cec29a3-a99c-40a8-bcf6-876eb0466c28 button.colab-df-convert');\n",
              "        buttonEl.style.display =\n",
              "          google.colab.kernel.accessAllowed ? 'block' : 'none';\n",
              "\n",
              "        async function convertToInteractive(key) {\n",
              "          const element = document.querySelector('#df-4cec29a3-a99c-40a8-bcf6-876eb0466c28');\n",
              "          const dataTable =\n",
              "            await google.colab.kernel.invokeFunction('convertToInteractive',\n",
              "                                                     [key], {});\n",
              "          if (!dataTable) return;\n",
              "\n",
              "          const docLinkHtml = 'Like what you see? Visit the ' +\n",
              "            '<a target=\"_blank\" href=https://colab.research.google.com/notebooks/data_table.ipynb>data table notebook</a>'\n",
              "            + ' to learn more about interactive tables.';\n",
              "          element.innerHTML = '';\n",
              "          dataTable['output_type'] = 'display_data';\n",
              "          await google.colab.output.renderOutput(dataTable, element);\n",
              "          const docLink = document.createElement('div');\n",
              "          docLink.innerHTML = docLinkHtml;\n",
              "          element.appendChild(docLink);\n",
              "        }\n",
              "      </script>\n",
              "    </div>\n",
              "  </div>\n",
              "  "
            ]
          },
          "metadata": {},
          "execution_count": 4
        }
      ]
    },
    {
      "cell_type": "markdown",
      "source": [
        "# Part 1. Exploratory Datat Analysis"
      ],
      "metadata": {
        "id": "gypt_jR6dtH0"
      }
    },
    {
      "cell_type": "markdown",
      "source": [
        "## 1.1 Explore the Raw Data"
      ],
      "metadata": {
        "id": "DbUW-XHveAbd"
      }
    },
    {
      "cell_type": "markdown",
      "source": [
        "There are 10,000 data points and 14 features in the raw data. 'Exited' is the response variable that we want to predict. There are 7963 observations for 'Exited' = 0, and 2037 observations for 'Exited' = 1.\n"
      ],
      "metadata": {
        "id": "x4wLcTsBoGxE"
      }
    },
    {
      "cell_type": "markdown",
      "source": [
        "**RowNumber**: the record number for each row;\n",
        "\n",
        "**CustomerId**: the customer id for each row;\n",
        "\n",
        "**Surname**: the surname of the customer;\n",
        "\n",
        "**CreditScore**: the credit score of the customer;\n",
        "\n",
        "**Geography**: the location of the customer;\n",
        "\n",
        "**Gender**: the gender of the customer;\n",
        "\n",
        "**Age**: the age of the customer;\n",
        "\n",
        "**Tenure**: the number of years that the customer has been a client of the bank;\n",
        "\n",
        "**Balance**: the balance in the bank for each customer;\n",
        "\n",
        "**NumOfProducts**: the number of products that the customer has purchased through the bank;\n",
        "\n",
        "**HasCrCard**: whether or not the customer has a credit card (0 = No, 1 = Yes);\n",
        "\n",
        "\n",
        "**IsActiveMember**: whether or not the customer is an active member (0 = No, 1 = Yes);\n",
        "\n",
        "**EstimatedSalary**: the estimated salary of the customer;\n",
        "\n",
        "**Exited**: whether or not the customer left the bank (0 = No, 1 = Yes);"
      ],
      "metadata": {
        "id": "0m9SgtSW_noX"
      }
    },
    {
      "cell_type": "code",
      "source": [
        "# Check the number of rows and columns of data\n",
        "bank_data.shape"
      ],
      "metadata": {
        "colab": {
          "base_uri": "https://localhost:8080/"
        },
        "id": "WJOJ-KAue0GJ",
        "outputId": "d455e276-f01c-4c7a-a8f7-18fd55a8fd25"
      },
      "execution_count": null,
      "outputs": [
        {
          "output_type": "execute_result",
          "data": {
            "text/plain": [
              "(10000, 14)"
            ]
          },
          "metadata": {},
          "execution_count": 10
        }
      ]
    },
    {
      "cell_type": "code",
      "source": [
        "# Check first 10 rows of data\n",
        "bank_data.head(10)"
      ],
      "metadata": {
        "colab": {
          "base_uri": "https://localhost:8080/",
          "height": 427
        },
        "id": "Ak6PyNHKdx73",
        "outputId": "cd7a0bf0-96df-42ff-ecb6-369879fbe957"
      },
      "execution_count": null,
      "outputs": [
        {
          "output_type": "execute_result",
          "data": {
            "text/plain": [
              "   RowNumber  CustomerId   Surname  CreditScore Geography  Gender  Age  \\\n",
              "0          1    15634602  Hargrave          619    France  Female   42   \n",
              "1          2    15647311      Hill          608     Spain  Female   41   \n",
              "2          3    15619304      Onio          502    France  Female   42   \n",
              "3          4    15701354      Boni          699    France  Female   39   \n",
              "4          5    15737888  Mitchell          850     Spain  Female   43   \n",
              "5          6    15574012       Chu          645     Spain    Male   44   \n",
              "6          7    15592531  Bartlett          822    France    Male   50   \n",
              "7          8    15656148    Obinna          376   Germany  Female   29   \n",
              "8          9    15792365        He          501    France    Male   44   \n",
              "9         10    15592389        H?          684    France    Male   27   \n",
              "\n",
              "   Tenure    Balance  NumOfProducts  HasCrCard  IsActiveMember  \\\n",
              "0       2       0.00              1          1               1   \n",
              "1       1   83807.86              1          0               1   \n",
              "2       8  159660.80              3          1               0   \n",
              "3       1       0.00              2          0               0   \n",
              "4       2  125510.82              1          1               1   \n",
              "5       8  113755.78              2          1               0   \n",
              "6       7       0.00              2          1               1   \n",
              "7       4  115046.74              4          1               0   \n",
              "8       4  142051.07              2          0               1   \n",
              "9       2  134603.88              1          1               1   \n",
              "\n",
              "   EstimatedSalary  Exited  \n",
              "0        101348.88       1  \n",
              "1        112542.58       0  \n",
              "2        113931.57       1  \n",
              "3         93826.63       0  \n",
              "4         79084.10       0  \n",
              "5        149756.71       1  \n",
              "6         10062.80       0  \n",
              "7        119346.88       1  \n",
              "8         74940.50       0  \n",
              "9         71725.73       0  "
            ],
            "text/html": [
              "\n",
              "  <div id=\"df-981b6524-4156-4695-a407-0252bf8db6aa\">\n",
              "    <div class=\"colab-df-container\">\n",
              "      <div>\n",
              "<style scoped>\n",
              "    .dataframe tbody tr th:only-of-type {\n",
              "        vertical-align: middle;\n",
              "    }\n",
              "\n",
              "    .dataframe tbody tr th {\n",
              "        vertical-align: top;\n",
              "    }\n",
              "\n",
              "    .dataframe thead th {\n",
              "        text-align: right;\n",
              "    }\n",
              "</style>\n",
              "<table border=\"1\" class=\"dataframe\">\n",
              "  <thead>\n",
              "    <tr style=\"text-align: right;\">\n",
              "      <th></th>\n",
              "      <th>RowNumber</th>\n",
              "      <th>CustomerId</th>\n",
              "      <th>Surname</th>\n",
              "      <th>CreditScore</th>\n",
              "      <th>Geography</th>\n",
              "      <th>Gender</th>\n",
              "      <th>Age</th>\n",
              "      <th>Tenure</th>\n",
              "      <th>Balance</th>\n",
              "      <th>NumOfProducts</th>\n",
              "      <th>HasCrCard</th>\n",
              "      <th>IsActiveMember</th>\n",
              "      <th>EstimatedSalary</th>\n",
              "      <th>Exited</th>\n",
              "    </tr>\n",
              "  </thead>\n",
              "  <tbody>\n",
              "    <tr>\n",
              "      <th>0</th>\n",
              "      <td>1</td>\n",
              "      <td>15634602</td>\n",
              "      <td>Hargrave</td>\n",
              "      <td>619</td>\n",
              "      <td>France</td>\n",
              "      <td>Female</td>\n",
              "      <td>42</td>\n",
              "      <td>2</td>\n",
              "      <td>0.00</td>\n",
              "      <td>1</td>\n",
              "      <td>1</td>\n",
              "      <td>1</td>\n",
              "      <td>101348.88</td>\n",
              "      <td>1</td>\n",
              "    </tr>\n",
              "    <tr>\n",
              "      <th>1</th>\n",
              "      <td>2</td>\n",
              "      <td>15647311</td>\n",
              "      <td>Hill</td>\n",
              "      <td>608</td>\n",
              "      <td>Spain</td>\n",
              "      <td>Female</td>\n",
              "      <td>41</td>\n",
              "      <td>1</td>\n",
              "      <td>83807.86</td>\n",
              "      <td>1</td>\n",
              "      <td>0</td>\n",
              "      <td>1</td>\n",
              "      <td>112542.58</td>\n",
              "      <td>0</td>\n",
              "    </tr>\n",
              "    <tr>\n",
              "      <th>2</th>\n",
              "      <td>3</td>\n",
              "      <td>15619304</td>\n",
              "      <td>Onio</td>\n",
              "      <td>502</td>\n",
              "      <td>France</td>\n",
              "      <td>Female</td>\n",
              "      <td>42</td>\n",
              "      <td>8</td>\n",
              "      <td>159660.80</td>\n",
              "      <td>3</td>\n",
              "      <td>1</td>\n",
              "      <td>0</td>\n",
              "      <td>113931.57</td>\n",
              "      <td>1</td>\n",
              "    </tr>\n",
              "    <tr>\n",
              "      <th>3</th>\n",
              "      <td>4</td>\n",
              "      <td>15701354</td>\n",
              "      <td>Boni</td>\n",
              "      <td>699</td>\n",
              "      <td>France</td>\n",
              "      <td>Female</td>\n",
              "      <td>39</td>\n",
              "      <td>1</td>\n",
              "      <td>0.00</td>\n",
              "      <td>2</td>\n",
              "      <td>0</td>\n",
              "      <td>0</td>\n",
              "      <td>93826.63</td>\n",
              "      <td>0</td>\n",
              "    </tr>\n",
              "    <tr>\n",
              "      <th>4</th>\n",
              "      <td>5</td>\n",
              "      <td>15737888</td>\n",
              "      <td>Mitchell</td>\n",
              "      <td>850</td>\n",
              "      <td>Spain</td>\n",
              "      <td>Female</td>\n",
              "      <td>43</td>\n",
              "      <td>2</td>\n",
              "      <td>125510.82</td>\n",
              "      <td>1</td>\n",
              "      <td>1</td>\n",
              "      <td>1</td>\n",
              "      <td>79084.10</td>\n",
              "      <td>0</td>\n",
              "    </tr>\n",
              "    <tr>\n",
              "      <th>5</th>\n",
              "      <td>6</td>\n",
              "      <td>15574012</td>\n",
              "      <td>Chu</td>\n",
              "      <td>645</td>\n",
              "      <td>Spain</td>\n",
              "      <td>Male</td>\n",
              "      <td>44</td>\n",
              "      <td>8</td>\n",
              "      <td>113755.78</td>\n",
              "      <td>2</td>\n",
              "      <td>1</td>\n",
              "      <td>0</td>\n",
              "      <td>149756.71</td>\n",
              "      <td>1</td>\n",
              "    </tr>\n",
              "    <tr>\n",
              "      <th>6</th>\n",
              "      <td>7</td>\n",
              "      <td>15592531</td>\n",
              "      <td>Bartlett</td>\n",
              "      <td>822</td>\n",
              "      <td>France</td>\n",
              "      <td>Male</td>\n",
              "      <td>50</td>\n",
              "      <td>7</td>\n",
              "      <td>0.00</td>\n",
              "      <td>2</td>\n",
              "      <td>1</td>\n",
              "      <td>1</td>\n",
              "      <td>10062.80</td>\n",
              "      <td>0</td>\n",
              "    </tr>\n",
              "    <tr>\n",
              "      <th>7</th>\n",
              "      <td>8</td>\n",
              "      <td>15656148</td>\n",
              "      <td>Obinna</td>\n",
              "      <td>376</td>\n",
              "      <td>Germany</td>\n",
              "      <td>Female</td>\n",
              "      <td>29</td>\n",
              "      <td>4</td>\n",
              "      <td>115046.74</td>\n",
              "      <td>4</td>\n",
              "      <td>1</td>\n",
              "      <td>0</td>\n",
              "      <td>119346.88</td>\n",
              "      <td>1</td>\n",
              "    </tr>\n",
              "    <tr>\n",
              "      <th>8</th>\n",
              "      <td>9</td>\n",
              "      <td>15792365</td>\n",
              "      <td>He</td>\n",
              "      <td>501</td>\n",
              "      <td>France</td>\n",
              "      <td>Male</td>\n",
              "      <td>44</td>\n",
              "      <td>4</td>\n",
              "      <td>142051.07</td>\n",
              "      <td>2</td>\n",
              "      <td>0</td>\n",
              "      <td>1</td>\n",
              "      <td>74940.50</td>\n",
              "      <td>0</td>\n",
              "    </tr>\n",
              "    <tr>\n",
              "      <th>9</th>\n",
              "      <td>10</td>\n",
              "      <td>15592389</td>\n",
              "      <td>H?</td>\n",
              "      <td>684</td>\n",
              "      <td>France</td>\n",
              "      <td>Male</td>\n",
              "      <td>27</td>\n",
              "      <td>2</td>\n",
              "      <td>134603.88</td>\n",
              "      <td>1</td>\n",
              "      <td>1</td>\n",
              "      <td>1</td>\n",
              "      <td>71725.73</td>\n",
              "      <td>0</td>\n",
              "    </tr>\n",
              "  </tbody>\n",
              "</table>\n",
              "</div>\n",
              "      <button class=\"colab-df-convert\" onclick=\"convertToInteractive('df-981b6524-4156-4695-a407-0252bf8db6aa')\"\n",
              "              title=\"Convert this dataframe to an interactive table.\"\n",
              "              style=\"display:none;\">\n",
              "        \n",
              "  <svg xmlns=\"http://www.w3.org/2000/svg\" height=\"24px\"viewBox=\"0 0 24 24\"\n",
              "       width=\"24px\">\n",
              "    <path d=\"M0 0h24v24H0V0z\" fill=\"none\"/>\n",
              "    <path d=\"M18.56 5.44l.94 2.06.94-2.06 2.06-.94-2.06-.94-.94-2.06-.94 2.06-2.06.94zm-11 1L8.5 8.5l.94-2.06 2.06-.94-2.06-.94L8.5 2.5l-.94 2.06-2.06.94zm10 10l.94 2.06.94-2.06 2.06-.94-2.06-.94-.94-2.06-.94 2.06-2.06.94z\"/><path d=\"M17.41 7.96l-1.37-1.37c-.4-.4-.92-.59-1.43-.59-.52 0-1.04.2-1.43.59L10.3 9.45l-7.72 7.72c-.78.78-.78 2.05 0 2.83L4 21.41c.39.39.9.59 1.41.59.51 0 1.02-.2 1.41-.59l7.78-7.78 2.81-2.81c.8-.78.8-2.07 0-2.86zM5.41 20L4 18.59l7.72-7.72 1.47 1.35L5.41 20z\"/>\n",
              "  </svg>\n",
              "      </button>\n",
              "      \n",
              "  <style>\n",
              "    .colab-df-container {\n",
              "      display:flex;\n",
              "      flex-wrap:wrap;\n",
              "      gap: 12px;\n",
              "    }\n",
              "\n",
              "    .colab-df-convert {\n",
              "      background-color: #E8F0FE;\n",
              "      border: none;\n",
              "      border-radius: 50%;\n",
              "      cursor: pointer;\n",
              "      display: none;\n",
              "      fill: #1967D2;\n",
              "      height: 32px;\n",
              "      padding: 0 0 0 0;\n",
              "      width: 32px;\n",
              "    }\n",
              "\n",
              "    .colab-df-convert:hover {\n",
              "      background-color: #E2EBFA;\n",
              "      box-shadow: 0px 1px 2px rgba(60, 64, 67, 0.3), 0px 1px 3px 1px rgba(60, 64, 67, 0.15);\n",
              "      fill: #174EA6;\n",
              "    }\n",
              "\n",
              "    [theme=dark] .colab-df-convert {\n",
              "      background-color: #3B4455;\n",
              "      fill: #D2E3FC;\n",
              "    }\n",
              "\n",
              "    [theme=dark] .colab-df-convert:hover {\n",
              "      background-color: #434B5C;\n",
              "      box-shadow: 0px 1px 3px 1px rgba(0, 0, 0, 0.15);\n",
              "      filter: drop-shadow(0px 1px 2px rgba(0, 0, 0, 0.3));\n",
              "      fill: #FFFFFF;\n",
              "    }\n",
              "  </style>\n",
              "\n",
              "      <script>\n",
              "        const buttonEl =\n",
              "          document.querySelector('#df-981b6524-4156-4695-a407-0252bf8db6aa button.colab-df-convert');\n",
              "        buttonEl.style.display =\n",
              "          google.colab.kernel.accessAllowed ? 'block' : 'none';\n",
              "\n",
              "        async function convertToInteractive(key) {\n",
              "          const element = document.querySelector('#df-981b6524-4156-4695-a407-0252bf8db6aa');\n",
              "          const dataTable =\n",
              "            await google.colab.kernel.invokeFunction('convertToInteractive',\n",
              "                                                     [key], {});\n",
              "          if (!dataTable) return;\n",
              "\n",
              "          const docLinkHtml = 'Like what you see? Visit the ' +\n",
              "            '<a target=\"_blank\" href=https://colab.research.google.com/notebooks/data_table.ipynb>data table notebook</a>'\n",
              "            + ' to learn more about interactive tables.';\n",
              "          element.innerHTML = '';\n",
              "          dataTable['output_type'] = 'display_data';\n",
              "          await google.colab.output.renderOutput(dataTable, element);\n",
              "          const docLink = document.createElement('div');\n",
              "          docLink.innerHTML = docLinkHtml;\n",
              "          element.appendChild(docLink);\n",
              "        }\n",
              "      </script>\n",
              "    </div>\n",
              "  </div>\n",
              "  "
            ]
          },
          "metadata": {},
          "execution_count": 11
        }
      ]
    },
    {
      "cell_type": "code",
      "source": [
        "# Check data information\n",
        "bank_data.info()"
      ],
      "metadata": {
        "colab": {
          "base_uri": "https://localhost:8080/"
        },
        "id": "GlV9Y0njd8jP",
        "outputId": "c6ec0a53-039d-484d-b542-1f9521e6fe50"
      },
      "execution_count": null,
      "outputs": [
        {
          "output_type": "stream",
          "name": "stdout",
          "text": [
            "<class 'pandas.core.frame.DataFrame'>\n",
            "RangeIndex: 10000 entries, 0 to 9999\n",
            "Data columns (total 14 columns):\n",
            " #   Column           Non-Null Count  Dtype  \n",
            "---  ------           --------------  -----  \n",
            " 0   RowNumber        10000 non-null  int64  \n",
            " 1   CustomerId       10000 non-null  int64  \n",
            " 2   Surname          10000 non-null  object \n",
            " 3   CreditScore      10000 non-null  int64  \n",
            " 4   Geography        10000 non-null  object \n",
            " 5   Gender           10000 non-null  object \n",
            " 6   Age              10000 non-null  int64  \n",
            " 7   Tenure           10000 non-null  int64  \n",
            " 8   Balance          10000 non-null  float64\n",
            " 9   NumOfProducts    10000 non-null  int64  \n",
            " 10  HasCrCard        10000 non-null  int64  \n",
            " 11  IsActiveMember   10000 non-null  int64  \n",
            " 12  EstimatedSalary  10000 non-null  float64\n",
            " 13  Exited           10000 non-null  int64  \n",
            "dtypes: float64(2), int64(9), object(3)\n",
            "memory usage: 1.1+ MB\n"
          ]
        }
      ]
    },
    {
      "cell_type": "code",
      "source": [
        "class_0 = bank_data[bank_data['Exited'] == 0]\n",
        "print(class_0.shape)\n",
        "\n",
        "class_1 = bank_data[bank_data['Exited'] == 1]\n",
        "print(class_1.shape)"
      ],
      "metadata": {
        "colab": {
          "base_uri": "https://localhost:8080/"
        },
        "id": "3ae2BNuZnk3s",
        "outputId": "11b3d3d3-e3b2-4284-8109-d41b588b57af"
      },
      "execution_count": null,
      "outputs": [
        {
          "output_type": "stream",
          "name": "stdout",
          "text": [
            "(7963, 14)\n",
            "(2037, 14)\n"
          ]
        }
      ]
    },
    {
      "cell_type": "code",
      "source": [
        "# Obtain the response variable\n",
        "y = bank_data['Exited']"
      ],
      "metadata": {
        "id": "OT55GXbWf9Kr"
      },
      "execution_count": null,
      "outputs": []
    },
    {
      "cell_type": "markdown",
      "source": [
        "## 1.2 Data Exploration"
      ],
      "metadata": {
        "id": "euoGT26EfYbR"
      }
    },
    {
      "cell_type": "code",
      "source": [
        "# Check any missing values in each column\n",
        "bank_data.isnull().sum()"
      ],
      "metadata": {
        "colab": {
          "base_uri": "https://localhost:8080/"
        },
        "id": "fh6IT9EVe8d7",
        "outputId": "b4abb9dd-1178-4afe-e00a-e329be851180"
      },
      "execution_count": null,
      "outputs": [
        {
          "output_type": "execute_result",
          "data": {
            "text/plain": [
              "RowNumber          0\n",
              "CustomerId         0\n",
              "Surname            0\n",
              "CreditScore        0\n",
              "Geography          0\n",
              "Gender             0\n",
              "Age                0\n",
              "Tenure             0\n",
              "Balance            0\n",
              "NumOfProducts      0\n",
              "HasCrCard          0\n",
              "IsActiveMember     0\n",
              "EstimatedSalary    0\n",
              "Exited             0\n",
              "dtype: int64"
            ]
          },
          "metadata": {},
          "execution_count": 8
        }
      ]
    },
    {
      "cell_type": "code",
      "source": [
        "# Check the number of unique value for each column\n",
        "bank_data.nunique()"
      ],
      "metadata": {
        "colab": {
          "base_uri": "https://localhost:8080/"
        },
        "id": "-kygtYSHfD6u",
        "outputId": "2c5c5782-6643-4f9f-eee3-b7cc68d4ddab"
      },
      "execution_count": null,
      "outputs": [
        {
          "output_type": "execute_result",
          "data": {
            "text/plain": [
              "RowNumber          10000\n",
              "CustomerId         10000\n",
              "Surname             2932\n",
              "CreditScore          460\n",
              "Geography              3\n",
              "Gender                 2\n",
              "Age                   70\n",
              "Tenure                11\n",
              "Balance             6382\n",
              "NumOfProducts          4\n",
              "HasCrCard              2\n",
              "IsActiveMember         2\n",
              "EstimatedSalary     9999\n",
              "Exited                 2\n",
              "dtype: int64"
            ]
          },
          "metadata": {},
          "execution_count": 14
        }
      ]
    },
    {
      "cell_type": "markdown",
      "source": [
        "### 1.2.1 Numerical Features"
      ],
      "metadata": {
        "id": "XKqXWMxggMGz"
      }
    },
    {
      "cell_type": "code",
      "source": [
        "# Boxplot for numerical features\n",
        "_, axss = plt.subplots(2, 3, figsize = [20,10])\n",
        "sns.boxplot(x = 'Exited', y = 'CreditScore', data = bank_data, ax = axss[0][0])\n",
        "sns.boxplot(x = 'Exited', y = 'Age', data = bank_data, ax = axss[0][1])\n",
        "sns.boxplot(x = 'Exited', y = 'Tenure', data = bank_data, ax = axss[0][2])\n",
        "sns.boxplot(x = 'Exited', y = 'NumOfProducts', data = bank_data, ax = axss[1][0])\n",
        "sns.boxplot(x = 'Exited', y = 'Balance', data = bank_data, ax = axss[1][1])\n",
        "sns.boxplot(x = 'Exited', y = 'EstimatedSalary', data = bank_data, ax = axss[1][2])"
      ],
      "metadata": {
        "colab": {
          "base_uri": "https://localhost:8080/",
          "height": 464
        },
        "id": "mnjp0xw-fNBa",
        "outputId": "c3d1e5e5-90b4-4a43-fa73-11027ce6fef4"
      },
      "execution_count": null,
      "outputs": [
        {
          "output_type": "execute_result",
          "data": {
            "text/plain": [
              "<matplotlib.axes._subplots.AxesSubplot at 0x7fef6bdac1d0>"
            ]
          },
          "metadata": {},
          "execution_count": 22
        },
        {
          "output_type": "display_data",
          "data": {
            "text/plain": [
              "<Figure size 1440x720 with 6 Axes>"
            ],
            "image/png": "[encoded data removed]"
          },
          "metadata": {
            "needs_background": "light"
          }
        }
      ]
    },
    {
      "cell_type": "code",
      "source": [
        "# Check Correlations\n",
        "corr_data = bank_data[['CreditScore', 'Age', 'Tenure', 'NumOfProducts', 'Balance', 'EstimatedSalary']]\n",
        "\n",
        "sns.heatmap(corr_data.corr(), cmap = 'Blues', annot = True, annot_kws = {'size': 6}, linewidths = 0.3)\n",
        "\n",
        "# It seems that there is no significant correlation between numerical variables.\n",
        "# Don't have to worry about multicollinearity."
      ],
      "metadata": {
        "colab": {
          "base_uri": "https://localhost:8080/",
          "height": 358
        },
        "id": "bfpUsdpwHdeN",
        "outputId": "072b30f9-229b-4788-e981-c76b38d75a01"
      },
      "execution_count": null,
      "outputs": [
        {
          "output_type": "execute_result",
          "data": {
            "text/plain": [
              "<matplotlib.axes._subplots.AxesSubplot at 0x7fef508c53d0>"
            ]
          },
          "metadata": {},
          "execution_count": 145
        },
        {
          "output_type": "display_data",
          "data": {
            "text/plain": [
              "<Figure size 432x288 with 2 Axes>"
            ],
            "image/png": "[encoded data removed]"
          },
          "metadata": {
            "needs_background": "light"
          }
        }
      ]
    },
    {
      "cell_type": "markdown",
      "source": [
        "### 1.2.2 Categorical Features"
      ],
      "metadata": {
        "id": "F37ii6iHgxLp"
      }
    },
    {
      "cell_type": "code",
      "source": [
        "# Barplot for categorical features\n",
        "_, axss = plt.subplots(2, 2, figsize=[20,10])\n",
        "sns.countplot(x = 'Exited', hue = 'Geography', data = bank_data, ax = axss[0][0])\n",
        "sns.countplot(x = 'Exited', hue = 'Gender', data = bank_data, ax = axss[0][1])\n",
        "sns.countplot(x = 'Exited', hue = 'HasCrCard', data = bank_data, ax = axss[1][0])\n",
        "sns.countplot(x = 'Exited', hue = 'IsActiveMember', data = bank_data, ax = axss[1][1])"
      ],
      "metadata": {
        "colab": {
          "base_uri": "https://localhost:8080/",
          "height": 462
        },
        "id": "3BkKTCqHgwjA",
        "outputId": "2db1b138-4ac2-4113-df30-3a91515065ea"
      },
      "execution_count": null,
      "outputs": [
        {
          "output_type": "execute_result",
          "data": {
            "text/plain": [
              "<matplotlib.axes._subplots.AxesSubplot at 0x7fef6bff2890>"
            ]
          },
          "metadata": {},
          "execution_count": 21
        },
        {
          "output_type": "display_data",
          "data": {
            "text/plain": [
              "<Figure size 1440x720 with 4 Axes>"
            ],
            "image/png": "[encoded data removed]"
          },
          "metadata": {
            "needs_background": "light"
          }
        }
      ]
    },
    {
      "cell_type": "markdown",
      "source": [
        "# Part 2: Data Preprocessing"
      ],
      "metadata": {
        "id": "Q2yi83ZEhWm5"
      }
    },
    {
      "cell_type": "code",
      "source": [
        "# Drop irrelavant features\n",
        "X = bank_data.drop(['RowNumber', 'CustomerId', 'Surname', 'Exited'], axis = 1)"
      ],
      "metadata": {
        "id": "uveCouW7heCy"
      },
      "execution_count": null,
      "outputs": []
    },
    {
      "cell_type": "code",
      "source": [
        "print(X.shape)\n",
        "print(X.dtypes)"
      ],
      "metadata": {
        "colab": {
          "base_uri": "https://localhost:8080/"
        },
        "id": "HHMW95VFh4Tu",
        "outputId": "459b0c0c-6041-49fb-8c48-65888b3ff1bb"
      },
      "execution_count": null,
      "outputs": [
        {
          "output_type": "stream",
          "name": "stdout",
          "text": [
            "(10000, 10)\n",
            "CreditScore          int64\n",
            "Geography           object\n",
            "Gender              object\n",
            "Age                  int64\n",
            "Tenure               int64\n",
            "Balance            float64\n",
            "NumOfProducts        int64\n",
            "HasCrCard            int64\n",
            "IsActiveMember       int64\n",
            "EstimatedSalary    float64\n",
            "dtype: object\n"
          ]
        }
      ]
    },
    {
      "cell_type": "code",
      "source": [
        "X.head()"
      ],
      "metadata": {
        "colab": {
          "base_uri": "https://localhost:8080/",
          "height": 270
        },
        "id": "EweBK5cshzZe",
        "outputId": "87b56d3f-b367-4947-8797-040a0cef3fec"
      },
      "execution_count": null,
      "outputs": [
        {
          "output_type": "execute_result",
          "data": {
            "text/plain": [
              "   CreditScore Geography  Gender  Age  Tenure    Balance  NumOfProducts  \\\n",
              "0          619    France  Female   42       2       0.00              1   \n",
              "1          608     Spain  Female   41       1   83807.86              1   \n",
              "2          502    France  Female   42       8  159660.80              3   \n",
              "3          699    France  Female   39       1       0.00              2   \n",
              "4          850     Spain  Female   43       2  125510.82              1   \n",
              "\n",
              "   HasCrCard  IsActiveMember  EstimatedSalary  \n",
              "0          1               1        101348.88  \n",
              "1          0               1        112542.58  \n",
              "2          1               0        113931.57  \n",
              "3          0               0         93826.63  \n",
              "4          1               1         79084.10  "
            ],
            "text/html": [
              "\n",
              "  <div id=\"df-12b51c7d-597d-4ee7-baf7-1a6696a675fb\">\n",
              "    <div class=\"colab-df-container\">\n",
              "      <div>\n",
              "<style scoped>\n",
              "    .dataframe tbody tr th:only-of-type {\n",
              "        vertical-align: middle;\n",
              "    }\n",
              "\n",
              "    .dataframe tbody tr th {\n",
              "        vertical-align: top;\n",
              "    }\n",
              "\n",
              "    .dataframe thead th {\n",
              "        text-align: right;\n",
              "    }\n",
              "</style>\n",
              "<table border=\"1\" class=\"dataframe\">\n",
              "  <thead>\n",
              "    <tr style=\"text-align: right;\">\n",
              "      <th></th>\n",
              "      <th>CreditScore</th>\n",
              "      <th>Geography</th>\n",
              "      <th>Gender</th>\n",
              "      <th>Age</th>\n",
              "      <th>Tenure</th>\n",
              "      <th>Balance</th>\n",
              "      <th>NumOfProducts</th>\n",
              "      <th>HasCrCard</th>\n",
              "      <th>IsActiveMember</th>\n",
              "      <th>EstimatedSalary</th>\n",
              "    </tr>\n",
              "  </thead>\n",
              "  <tbody>\n",
              "    <tr>\n",
              "      <th>0</th>\n",
              "      <td>619</td>\n",
              "      <td>France</td>\n",
              "      <td>Female</td>\n",
              "      <td>42</td>\n",
              "      <td>2</td>\n",
              "      <td>0.00</td>\n",
              "      <td>1</td>\n",
              "      <td>1</td>\n",
              "      <td>1</td>\n",
              "      <td>101348.88</td>\n",
              "    </tr>\n",
              "    <tr>\n",
              "      <th>1</th>\n",
              "      <td>608</td>\n",
              "      <td>Spain</td>\n",
              "      <td>Female</td>\n",
              "      <td>41</td>\n",
              "      <td>1</td>\n",
              "      <td>83807.86</td>\n",
              "      <td>1</td>\n",
              "      <td>0</td>\n",
              "      <td>1</td>\n",
              "      <td>112542.58</td>\n",
              "    </tr>\n",
              "    <tr>\n",
              "      <th>2</th>\n",
              "      <td>502</td>\n",
              "      <td>France</td>\n",
              "      <td>Female</td>\n",
              "      <td>42</td>\n",
              "      <td>8</td>\n",
              "      <td>159660.80</td>\n",
              "      <td>3</td>\n",
              "      <td>1</td>\n",
              "      <td>0</td>\n",
              "      <td>113931.57</td>\n",
              "    </tr>\n",
              "    <tr>\n",
              "      <th>3</th>\n",
              "      <td>699</td>\n",
              "      <td>France</td>\n",
              "      <td>Female</td>\n",
              "      <td>39</td>\n",
              "      <td>1</td>\n",
              "      <td>0.00</td>\n",
              "      <td>2</td>\n",
              "      <td>0</td>\n",
              "      <td>0</td>\n",
              "      <td>93826.63</td>\n",
              "    </tr>\n",
              "    <tr>\n",
              "      <th>4</th>\n",
              "      <td>850</td>\n",
              "      <td>Spain</td>\n",
              "      <td>Female</td>\n",
              "      <td>43</td>\n",
              "      <td>2</td>\n",
              "      <td>125510.82</td>\n",
              "      <td>1</td>\n",
              "      <td>1</td>\n",
              "      <td>1</td>\n",
              "      <td>79084.10</td>\n",
              "    </tr>\n",
              "  </tbody>\n",
              "</table>\n",
              "</div>\n",
              "      <button class=\"colab-df-convert\" onclick=\"convertToInteractive('df-12b51c7d-597d-4ee7-baf7-1a6696a675fb')\"\n",
              "              title=\"Convert this dataframe to an interactive table.\"\n",
              "              style=\"display:none;\">\n",
              "        \n",
              "  <svg xmlns=\"http://www.w3.org/2000/svg\" height=\"24px\"viewBox=\"0 0 24 24\"\n",
              "       width=\"24px\">\n",
              "    <path d=\"M0 0h24v24H0V0z\" fill=\"none\"/>\n",
              "    <path d=\"M18.56 5.44l.94 2.06.94-2.06 2.06-.94-2.06-.94-.94-2.06-.94 2.06-2.06.94zm-11 1L8.5 8.5l.94-2.06 2.06-.94-2.06-.94L8.5 2.5l-.94 2.06-2.06.94zm10 10l.94 2.06.94-2.06 2.06-.94-2.06-.94-.94-2.06-.94 2.06-2.06.94z\"/><path d=\"M17.41 7.96l-1.37-1.37c-.4-.4-.92-.59-1.43-.59-.52 0-1.04.2-1.43.59L10.3 9.45l-7.72 7.72c-.78.78-.78 2.05 0 2.83L4 21.41c.39.39.9.59 1.41.59.51 0 1.02-.2 1.41-.59l7.78-7.78 2.81-2.81c.8-.78.8-2.07 0-2.86zM5.41 20L4 18.59l7.72-7.72 1.47 1.35L5.41 20z\"/>\n",
              "  </svg>\n",
              "      </button>\n",
              "      \n",
              "  <style>\n",
              "    .colab-df-container {\n",
              "      display:flex;\n",
              "      flex-wrap:wrap;\n",
              "      gap: 12px;\n",
              "    }\n",
              "\n",
              "    .colab-df-convert {\n",
              "      background-color: #E8F0FE;\n",
              "      border: none;\n",
              "      border-radius: 50%;\n",
              "      cursor: pointer;\n",
              "      display: none;\n",
              "      fill: #1967D2;\n",
              "      height: 32px;\n",
              "      padding: 0 0 0 0;\n",
              "      width: 32px;\n",
              "    }\n",
              "\n",
              "    .colab-df-convert:hover {\n",
              "      background-color: #E2EBFA;\n",
              "      box-shadow: 0px 1px 2px rgba(60, 64, 67, 0.3), 0px 1px 3px 1px rgba(60, 64, 67, 0.15);\n",
              "      fill: #174EA6;\n",
              "    }\n",
              "\n",
              "    [theme=dark] .colab-df-convert {\n",
              "      background-color: #3B4455;\n",
              "      fill: #D2E3FC;\n",
              "    }\n",
              "\n",
              "    [theme=dark] .colab-df-convert:hover {\n",
              "      background-color: #434B5C;\n",
              "      box-shadow: 0px 1px 3px 1px rgba(0, 0, 0, 0.15);\n",
              "      filter: drop-shadow(0px 1px 2px rgba(0, 0, 0, 0.3));\n",
              "      fill: #FFFFFF;\n",
              "    }\n",
              "  </style>\n",
              "\n",
              "      <script>\n",
              "        const buttonEl =\n",
              "          document.querySelector('#df-12b51c7d-597d-4ee7-baf7-1a6696a675fb button.colab-df-convert');\n",
              "        buttonEl.style.display =\n",
              "          google.colab.kernel.accessAllowed ? 'block' : 'none';\n",
              "\n",
              "        async function convertToInteractive(key) {\n",
              "          const element = document.querySelector('#df-12b51c7d-597d-4ee7-baf7-1a6696a675fb');\n",
              "          const dataTable =\n",
              "            await google.colab.kernel.invokeFunction('convertToInteractive',\n",
              "                                                     [key], {});\n",
              "          if (!dataTable) return;\n",
              "\n",
              "          const docLinkHtml = 'Like what you see? Visit the ' +\n",
              "            '<a target=\"_blank\" href=https://colab.research.google.com/notebooks/data_table.ipynb>data table notebook</a>'\n",
              "            + ' to learn more about interactive tables.';\n",
              "          element.innerHTML = '';\n",
              "          dataTable['output_type'] = 'display_data';\n",
              "          await google.colab.output.renderOutput(dataTable, element);\n",
              "          const docLink = document.createElement('div');\n",
              "          docLink.innerHTML = docLinkHtml;\n",
              "          element.appendChild(docLink);\n",
              "        }\n",
              "      </script>\n",
              "    </div>\n",
              "  </div>\n",
              "  "
            ]
          },
          "metadata": {},
          "execution_count": 29
        }
      ]
    },
    {
      "cell_type": "code",
      "source": [
        "num_ft = X.columns[(X.dtypes == 'float64') | (X.dtypes == 'int64')]\n",
        "cat_ft = X.columns[X.dtypes == 'object']"
      ],
      "metadata": {
        "id": "kkbP3O1Lh2UZ"
      },
      "execution_count": null,
      "outputs": []
    },
    {
      "cell_type": "code",
      "source": [
        "print(num_ft)\n",
        "print(cat_ft)"
      ],
      "metadata": {
        "colab": {
          "base_uri": "https://localhost:8080/"
        },
        "id": "Q-5wllwpm9Kf",
        "outputId": "837328dd-bcfc-4c14-c9e2-0fd9caa35c9b"
      },
      "execution_count": null,
      "outputs": [
        {
          "output_type": "stream",
          "name": "stdout",
          "text": [
            "Index(['CreditScore', 'Age', 'Tenure', 'Balance', 'NumOfProducts', 'HasCrCard',\n",
            "       'IsActiveMember', 'EstimatedSalary'],\n",
            "      dtype='object')\n",
            "Index(['Geography', 'Gender'], dtype='object')\n"
          ]
        }
      ]
    },
    {
      "cell_type": "markdown",
      "source": [
        "# Part 3. Data Spliting"
      ],
      "metadata": {
        "id": "CcTKolIVnCbA"
      }
    },
    {
      "cell_type": "markdown",
      "source": [
        "Use stratified sampling in this case."
      ],
      "metadata": {
        "id": "5cqqkkwEnPWw"
      }
    },
    {
      "cell_type": "markdown",
      "source": [
        "Stratified Sampling:\n",
        "Total Data: 100 --> 75 y = 1; 25 y = 0\n",
        "\n",
        "Training Data: 80 --> 60 y = 1; 20 y = 0\n",
        "\n",
        "Test Data: 20 --> 15 y = 1; 5 y = 0"
      ],
      "metadata": {
        "id": "h9YphcXIoxml"
      }
    },
    {
      "cell_type": "markdown",
      "source": [
        "In this dataset, we have total data points of 10,000. And about 8,000 are in 'Exited' = 0 class, and about 2,000 are in 'Exited' = 1 class.\n",
        "\n",
        "We are going to reserve 25% of the data for testing."
      ],
      "metadata": {
        "id": "mgR3iTKPpXQ0"
      }
    },
    {
      "cell_type": "code",
      "source": [
        "# Stratified Sampling\n",
        "X_train, X_test, y_train, y_test = model_selection.train_test_split(X, y, test_size = 0.25, stratify = y, random_state = 1)\n",
        "\n",
        "print('The training data has ' + str(X_train.shape[0]) + ' observation with ' + str(X_train.shape[1]) + ' features.')\n",
        "print('The test data has ' + str(X_test.shape[0]) + ' observation with ' + str(X_test.shape[1]) + ' features.')"
      ],
      "metadata": {
        "colab": {
          "base_uri": "https://localhost:8080/"
        },
        "id": "5EeA9kU3nHSW",
        "outputId": "0802b1d0-8a6d-43e6-9245-125673a5a830"
      },
      "execution_count": null,
      "outputs": [
        {
          "output_type": "stream",
          "name": "stdout",
          "text": [
            "The training data has 7500 observation with 10 features.\n",
            "The test data has 2500 observation with 10 features.\n"
          ]
        }
      ]
    },
    {
      "cell_type": "code",
      "source": [
        "X_train.head()"
      ],
      "metadata": {
        "colab": {
          "base_uri": "https://localhost:8080/",
          "height": 270
        },
        "id": "LQDVOfsCp39q",
        "outputId": "a184e8d0-e345-4152-c687-86b57c687c2f"
      },
      "execution_count": null,
      "outputs": [
        {
          "output_type": "execute_result",
          "data": {
            "text/plain": [
              "      CreditScore Geography  Gender  Age  Tenure   Balance  NumOfProducts  \\\n",
              "7971          633     Spain    Male   42      10      0.00              1   \n",
              "9152          708   Germany  Female   23       4  71433.08              1   \n",
              "6732          548    France  Female   37       9      0.00              2   \n",
              "902           645    France  Female   48       7  90612.34              1   \n",
              "2996          729     Spain  Female   45       7  91091.06              2   \n",
              "\n",
              "      HasCrCard  IsActiveMember  EstimatedSalary  \n",
              "7971          0               1         79408.17  \n",
              "9152          1               0        103697.57  \n",
              "6732          0               0         98029.58  \n",
              "902           1               1        149139.13  \n",
              "2996          1               0         71133.12  "
            ],
            "text/html": [
              "\n",
              "  <div id=\"df-61fc09c2-6201-4141-9d24-9f70588fbf58\">\n",
              "    <div class=\"colab-df-container\">\n",
              "      <div>\n",
              "<style scoped>\n",
              "    .dataframe tbody tr th:only-of-type {\n",
              "        vertical-align: middle;\n",
              "    }\n",
              "\n",
              "    .dataframe tbody tr th {\n",
              "        vertical-align: top;\n",
              "    }\n",
              "\n",
              "    .dataframe thead th {\n",
              "        text-align: right;\n",
              "    }\n",
              "</style>\n",
              "<table border=\"1\" class=\"dataframe\">\n",
              "  <thead>\n",
              "    <tr style=\"text-align: right;\">\n",
              "      <th></th>\n",
              "      <th>CreditScore</th>\n",
              "      <th>Geography</th>\n",
              "      <th>Gender</th>\n",
              "      <th>Age</th>\n",
              "      <th>Tenure</th>\n",
              "      <th>Balance</th>\n",
              "      <th>NumOfProducts</th>\n",
              "      <th>HasCrCard</th>\n",
              "      <th>IsActiveMember</th>\n",
              "      <th>EstimatedSalary</th>\n",
              "    </tr>\n",
              "  </thead>\n",
              "  <tbody>\n",
              "    <tr>\n",
              "      <th>7971</th>\n",
              "      <td>633</td>\n",
              "      <td>Spain</td>\n",
              "      <td>Male</td>\n",
              "      <td>42</td>\n",
              "      <td>10</td>\n",
              "      <td>0.00</td>\n",
              "      <td>1</td>\n",
              "      <td>0</td>\n",
              "      <td>1</td>\n",
              "      <td>79408.17</td>\n",
              "    </tr>\n",
              "    <tr>\n",
              "      <th>9152</th>\n",
              "      <td>708</td>\n",
              "      <td>Germany</td>\n",
              "      <td>Female</td>\n",
              "      <td>23</td>\n",
              "      <td>4</td>\n",
              "      <td>71433.08</td>\n",
              "      <td>1</td>\n",
              "      <td>1</td>\n",
              "      <td>0</td>\n",
              "      <td>103697.57</td>\n",
              "    </tr>\n",
              "    <tr>\n",
              "      <th>6732</th>\n",
              "      <td>548</td>\n",
              "      <td>France</td>\n",
              "      <td>Female</td>\n",
              "      <td>37</td>\n",
              "      <td>9</td>\n",
              "      <td>0.00</td>\n",
              "      <td>2</td>\n",
              "      <td>0</td>\n",
              "      <td>0</td>\n",
              "      <td>98029.58</td>\n",
              "    </tr>\n",
              "    <tr>\n",
              "      <th>902</th>\n",
              "      <td>645</td>\n",
              "      <td>France</td>\n",
              "      <td>Female</td>\n",
              "      <td>48</td>\n",
              "      <td>7</td>\n",
              "      <td>90612.34</td>\n",
              "      <td>1</td>\n",
              "      <td>1</td>\n",
              "      <td>1</td>\n",
              "      <td>149139.13</td>\n",
              "    </tr>\n",
              "    <tr>\n",
              "      <th>2996</th>\n",
              "      <td>729</td>\n",
              "      <td>Spain</td>\n",
              "      <td>Female</td>\n",
              "      <td>45</td>\n",
              "      <td>7</td>\n",
              "      <td>91091.06</td>\n",
              "      <td>2</td>\n",
              "      <td>1</td>\n",
              "      <td>0</td>\n",
              "      <td>71133.12</td>\n",
              "    </tr>\n",
              "  </tbody>\n",
              "</table>\n",
              "</div>\n",
              "      <button class=\"colab-df-convert\" onclick=\"convertToInteractive('df-61fc09c2-6201-4141-9d24-9f70588fbf58')\"\n",
              "              title=\"Convert this dataframe to an interactive table.\"\n",
              "              style=\"display:none;\">\n",
              "        \n",
              "  <svg xmlns=\"http://www.w3.org/2000/svg\" height=\"24px\"viewBox=\"0 0 24 24\"\n",
              "       width=\"24px\">\n",
              "    <path d=\"M0 0h24v24H0V0z\" fill=\"none\"/>\n",
              "    <path d=\"M18.56 5.44l.94 2.06.94-2.06 2.06-.94-2.06-.94-.94-2.06-.94 2.06-2.06.94zm-11 1L8.5 8.5l.94-2.06 2.06-.94-2.06-.94L8.5 2.5l-.94 2.06-2.06.94zm10 10l.94 2.06.94-2.06 2.06-.94-2.06-.94-.94-2.06-.94 2.06-2.06.94z\"/><path d=\"M17.41 7.96l-1.37-1.37c-.4-.4-.92-.59-1.43-.59-.52 0-1.04.2-1.43.59L10.3 9.45l-7.72 7.72c-.78.78-.78 2.05 0 2.83L4 21.41c.39.39.9.59 1.41.59.51 0 1.02-.2 1.41-.59l7.78-7.78 2.81-2.81c.8-.78.8-2.07 0-2.86zM5.41 20L4 18.59l7.72-7.72 1.47 1.35L5.41 20z\"/>\n",
              "  </svg>\n",
              "      </button>\n",
              "      \n",
              "  <style>\n",
              "    .colab-df-container {\n",
              "      display:flex;\n",
              "      flex-wrap:wrap;\n",
              "      gap: 12px;\n",
              "    }\n",
              "\n",
              "    .colab-df-convert {\n",
              "      background-color: #E8F0FE;\n",
              "      border: none;\n",
              "      border-radius: 50%;\n",
              "      cursor: pointer;\n",
              "      display: none;\n",
              "      fill: #1967D2;\n",
              "      height: 32px;\n",
              "      padding: 0 0 0 0;\n",
              "      width: 32px;\n",
              "    }\n",
              "\n",
              "    .colab-df-convert:hover {\n",
              "      background-color: #E2EBFA;\n",
              "      box-shadow: 0px 1px 2px rgba(60, 64, 67, 0.3), 0px 1px 3px 1px rgba(60, 64, 67, 0.15);\n",
              "      fill: #174EA6;\n",
              "    }\n",
              "\n",
              "    [theme=dark] .colab-df-convert {\n",
              "      background-color: #3B4455;\n",
              "      fill: #D2E3FC;\n",
              "    }\n",
              "\n",
              "    [theme=dark] .colab-df-convert:hover {\n",
              "      background-color: #434B5C;\n",
              "      box-shadow: 0px 1px 3px 1px rgba(0, 0, 0, 0.15);\n",
              "      filter: drop-shadow(0px 1px 2px rgba(0, 0, 0, 0.3));\n",
              "      fill: #FFFFFF;\n",
              "    }\n",
              "  </style>\n",
              "\n",
              "      <script>\n",
              "        const buttonEl =\n",
              "          document.querySelector('#df-61fc09c2-6201-4141-9d24-9f70588fbf58 button.colab-df-convert');\n",
              "        buttonEl.style.display =\n",
              "          google.colab.kernel.accessAllowed ? 'block' : 'none';\n",
              "\n",
              "        async function convertToInteractive(key) {\n",
              "          const element = document.querySelector('#df-61fc09c2-6201-4141-9d24-9f70588fbf58');\n",
              "          const dataTable =\n",
              "            await google.colab.kernel.invokeFunction('convertToInteractive',\n",
              "                                                     [key], {});\n",
              "          if (!dataTable) return;\n",
              "\n",
              "          const docLinkHtml = 'Like what you see? Visit the ' +\n",
              "            '<a target=\"_blank\" href=https://colab.research.google.com/notebooks/data_table.ipynb>data table notebook</a>'\n",
              "            + ' to learn more about interactive tables.';\n",
              "          element.innerHTML = '';\n",
              "          dataTable['output_type'] = 'display_data';\n",
              "          await google.colab.output.renderOutput(dataTable, element);\n",
              "          const docLink = document.createElement('div');\n",
              "          docLink.innerHTML = docLinkHtml;\n",
              "          element.appendChild(docLink);\n",
              "        }\n",
              "      </script>\n",
              "    </div>\n",
              "  </div>\n",
              "  "
            ]
          },
          "metadata": {},
          "execution_count": 56
        }
      ]
    },
    {
      "cell_type": "markdown",
      "source": [
        "# Part 4. Data Transformation"
      ],
      "metadata": {
        "id": "XONaghJhp9O-"
      }
    },
    {
      "cell_type": "markdown",
      "source": [
        "## 4.1 One-hot Encoding for 'Geography'"
      ],
      "metadata": {
        "id": "9M-jzHOyqES0"
      }
    },
    {
      "cell_type": "code",
      "source": [
        "# Alternative: get_dummies\n",
        "def OneHotEncoding(df, enc, categories):  \n",
        "  transformed = pd.DataFrame(enc.transform(df[categories]).toarray(), columns=enc.get_feature_names(categories))\n",
        "  return pd.concat([df.reset_index(drop=True), transformed], axis=1).drop(categories, axis=1)\n",
        "\n",
        "categories = ['Geography']\n",
        "enc_ohe = OneHotEncoder()\n",
        "enc_ohe.fit(X_train[categories])\n",
        "\n",
        "X_train = OneHotEncoding(X_train, enc_ohe, categories)\n",
        "X_test = OneHotEncoding(X_test, enc_ohe, categories)"
      ],
      "metadata": {
        "colab": {
          "base_uri": "https://localhost:8080/"
        },
        "id": "ChZFWIlPqBlY",
        "outputId": "0d5dfb71-e347-4267-f941-34cbb8e34bb1"
      },
      "execution_count": null,
      "outputs": [
        {
          "output_type": "stream",
          "name": "stderr",
          "text": [
            "/usr/local/lib/python3.7/dist-packages/sklearn/utils/deprecation.py:87: FutureWarning: Function get_feature_names is deprecated; get_feature_names is deprecated in 1.0 and will be removed in 1.2. Please use get_feature_names_out instead.\n",
            "  warnings.warn(msg, category=FutureWarning)\n",
            "/usr/local/lib/python3.7/dist-packages/sklearn/utils/deprecation.py:87: FutureWarning: Function get_feature_names is deprecated; get_feature_names is deprecated in 1.0 and will be removed in 1.2. Please use get_feature_names_out instead.\n",
            "  warnings.warn(msg, category=FutureWarning)\n"
          ]
        }
      ]
    },
    {
      "cell_type": "code",
      "source": [
        "X_train.head(10)"
      ],
      "metadata": {
        "colab": {
          "base_uri": "https://localhost:8080/",
          "height": 427
        },
        "id": "_ULq_lB_qZ1e",
        "outputId": "4fa768d4-b964-400b-e3ac-90cae7f278d9"
      },
      "execution_count": null,
      "outputs": [
        {
          "output_type": "execute_result",
          "data": {
            "text/plain": [
              "   CreditScore  Gender  Age  Tenure    Balance  NumOfProducts  HasCrCard  \\\n",
              "0          633    Male   42      10       0.00              1          0   \n",
              "1          708  Female   23       4   71433.08              1          1   \n",
              "2          548  Female   37       9       0.00              2          0   \n",
              "3          645  Female   48       7   90612.34              1          1   \n",
              "4          729  Female   45       7   91091.06              2          1   \n",
              "5          681  Female   43       8  154100.30              1          0   \n",
              "6          685    Male   57       7  101868.51              1          0   \n",
              "7          670    Male   33       1       0.00              2          1   \n",
              "8          672    Male   68       0  126061.51              2          1   \n",
              "9          794  Female   54       1   75900.84              1          1   \n",
              "\n",
              "   IsActiveMember  EstimatedSalary  Geography_France  Geography_Germany  \\\n",
              "0               1         79408.17               0.0                0.0   \n",
              "1               0        103697.57               0.0                1.0   \n",
              "2               0         98029.58               1.0                0.0   \n",
              "3               1        149139.13               1.0                0.0   \n",
              "4               0         71133.12               0.0                0.0   \n",
              "5               0        114659.81               1.0                0.0   \n",
              "6               1        113483.96               0.0                1.0   \n",
              "7               1         86413.11               1.0                0.0   \n",
              "8               1        184936.77               0.0                1.0   \n",
              "9               1        192154.66               0.0                1.0   \n",
              "\n",
              "   Geography_Spain  \n",
              "0              1.0  \n",
              "1              0.0  \n",
              "2              0.0  \n",
              "3              0.0  \n",
              "4              1.0  \n",
              "5              0.0  \n",
              "6              0.0  \n",
              "7              0.0  \n",
              "8              0.0  \n",
              "9              0.0  "
            ],
            "text/html": [
              "\n",
              "  <div id=\"df-dfb223c9-2836-4d37-9925-60acae05f48a\">\n",
              "    <div class=\"colab-df-container\">\n",
              "      <div>\n",
              "<style scoped>\n",
              "    .dataframe tbody tr th:only-of-type {\n",
              "        vertical-align: middle;\n",
              "    }\n",
              "\n",
              "    .dataframe tbody tr th {\n",
              "        vertical-align: top;\n",
              "    }\n",
              "\n",
              "    .dataframe thead th {\n",
              "        text-align: right;\n",
              "    }\n",
              "</style>\n",
              "<table border=\"1\" class=\"dataframe\">\n",
              "  <thead>\n",
              "    <tr style=\"text-align: right;\">\n",
              "      <th></th>\n",
              "      <th>CreditScore</th>\n",
              "      <th>Gender</th>\n",
              "      <th>Age</th>\n",
              "      <th>Tenure</th>\n",
              "      <th>Balance</th>\n",
              "      <th>NumOfProducts</th>\n",
              "      <th>HasCrCard</th>\n",
              "      <th>IsActiveMember</th>\n",
              "      <th>EstimatedSalary</th>\n",
              "      <th>Geography_France</th>\n",
              "      <th>Geography_Germany</th>\n",
              "      <th>Geography_Spain</th>\n",
              "    </tr>\n",
              "  </thead>\n",
              "  <tbody>\n",
              "    <tr>\n",
              "      <th>0</th>\n",
              "      <td>633</td>\n",
              "      <td>Male</td>\n",
              "      <td>42</td>\n",
              "      <td>10</td>\n",
              "      <td>0.00</td>\n",
              "      <td>1</td>\n",
              "      <td>0</td>\n",
              "      <td>1</td>\n",
              "      <td>79408.17</td>\n",
              "      <td>0.0</td>\n",
              "      <td>0.0</td>\n",
              "      <td>1.0</td>\n",
              "    </tr>\n",
              "    <tr>\n",
              "      <th>1</th>\n",
              "      <td>708</td>\n",
              "      <td>Female</td>\n",
              "      <td>23</td>\n",
              "      <td>4</td>\n",
              "      <td>71433.08</td>\n",
              "      <td>1</td>\n",
              "      <td>1</td>\n",
              "      <td>0</td>\n",
              "      <td>103697.57</td>\n",
              "      <td>0.0</td>\n",
              "      <td>1.0</td>\n",
              "      <td>0.0</td>\n",
              "    </tr>\n",
              "    <tr>\n",
              "      <th>2</th>\n",
              "      <td>548</td>\n",
              "      <td>Female</td>\n",
              "      <td>37</td>\n",
              "      <td>9</td>\n",
              "      <td>0.00</td>\n",
              "      <td>2</td>\n",
              "      <td>0</td>\n",
              "      <td>0</td>\n",
              "      <td>98029.58</td>\n",
              "      <td>1.0</td>\n",
              "      <td>0.0</td>\n",
              "      <td>0.0</td>\n",
              "    </tr>\n",
              "    <tr>\n",
              "      <th>3</th>\n",
              "      <td>645</td>\n",
              "      <td>Female</td>\n",
              "      <td>48</td>\n",
              "      <td>7</td>\n",
              "      <td>90612.34</td>\n",
              "      <td>1</td>\n",
              "      <td>1</td>\n",
              "      <td>1</td>\n",
              "      <td>149139.13</td>\n",
              "      <td>1.0</td>\n",
              "      <td>0.0</td>\n",
              "      <td>0.0</td>\n",
              "    </tr>\n",
              "    <tr>\n",
              "      <th>4</th>\n",
              "      <td>729</td>\n",
              "      <td>Female</td>\n",
              "      <td>45</td>\n",
              "      <td>7</td>\n",
              "      <td>91091.06</td>\n",
              "      <td>2</td>\n",
              "      <td>1</td>\n",
              "      <td>0</td>\n",
              "      <td>71133.12</td>\n",
              "      <td>0.0</td>\n",
              "      <td>0.0</td>\n",
              "      <td>1.0</td>\n",
              "    </tr>\n",
              "    <tr>\n",
              "      <th>5</th>\n",
              "      <td>681</td>\n",
              "      <td>Female</td>\n",
              "      <td>43</td>\n",
              "      <td>8</td>\n",
              "      <td>154100.30</td>\n",
              "      <td>1</td>\n",
              "      <td>0</td>\n",
              "      <td>0</td>\n",
              "      <td>114659.81</td>\n",
              "      <td>1.0</td>\n",
              "      <td>0.0</td>\n",
              "      <td>0.0</td>\n",
              "    </tr>\n",
              "    <tr>\n",
              "      <th>6</th>\n",
              "      <td>685</td>\n",
              "      <td>Male</td>\n",
              "      <td>57</td>\n",
              "      <td>7</td>\n",
              "      <td>101868.51</td>\n",
              "      <td>1</td>\n",
              "      <td>0</td>\n",
              "      <td>1</td>\n",
              "      <td>113483.96</td>\n",
              "      <td>0.0</td>\n",
              "      <td>1.0</td>\n",
              "      <td>0.0</td>\n",
              "    </tr>\n",
              "    <tr>\n",
              "      <th>7</th>\n",
              "      <td>670</td>\n",
              "      <td>Male</td>\n",
              "      <td>33</td>\n",
              "      <td>1</td>\n",
              "      <td>0.00</td>\n",
              "      <td>2</td>\n",
              "      <td>1</td>\n",
              "      <td>1</td>\n",
              "      <td>86413.11</td>\n",
              "      <td>1.0</td>\n",
              "      <td>0.0</td>\n",
              "      <td>0.0</td>\n",
              "    </tr>\n",
              "    <tr>\n",
              "      <th>8</th>\n",
              "      <td>672</td>\n",
              "      <td>Male</td>\n",
              "      <td>68</td>\n",
              "      <td>0</td>\n",
              "      <td>126061.51</td>\n",
              "      <td>2</td>\n",
              "      <td>1</td>\n",
              "      <td>1</td>\n",
              "      <td>184936.77</td>\n",
              "      <td>0.0</td>\n",
              "      <td>1.0</td>\n",
              "      <td>0.0</td>\n",
              "    </tr>\n",
              "    <tr>\n",
              "      <th>9</th>\n",
              "      <td>794</td>\n",
              "      <td>Female</td>\n",
              "      <td>54</td>\n",
              "      <td>1</td>\n",
              "      <td>75900.84</td>\n",
              "      <td>1</td>\n",
              "      <td>1</td>\n",
              "      <td>1</td>\n",
              "      <td>192154.66</td>\n",
              "      <td>0.0</td>\n",
              "      <td>1.0</td>\n",
              "      <td>0.0</td>\n",
              "    </tr>\n",
              "  </tbody>\n",
              "</table>\n",
              "</div>\n",
              "      <button class=\"colab-df-convert\" onclick=\"convertToInteractive('df-dfb223c9-2836-4d37-9925-60acae05f48a')\"\n",
              "              title=\"Convert this dataframe to an interactive table.\"\n",
              "              style=\"display:none;\">\n",
              "        \n",
              "  <svg xmlns=\"http://www.w3.org/2000/svg\" height=\"24px\"viewBox=\"0 0 24 24\"\n",
              "       width=\"24px\">\n",
              "    <path d=\"M0 0h24v24H0V0z\" fill=\"none\"/>\n",
              "    <path d=\"M18.56 5.44l.94 2.06.94-2.06 2.06-.94-2.06-.94-.94-2.06-.94 2.06-2.06.94zm-11 1L8.5 8.5l.94-2.06 2.06-.94-2.06-.94L8.5 2.5l-.94 2.06-2.06.94zm10 10l.94 2.06.94-2.06 2.06-.94-2.06-.94-.94-2.06-.94 2.06-2.06.94z\"/><path d=\"M17.41 7.96l-1.37-1.37c-.4-.4-.92-.59-1.43-.59-.52 0-1.04.2-1.43.59L10.3 9.45l-7.72 7.72c-.78.78-.78 2.05 0 2.83L4 21.41c.39.39.9.59 1.41.59.51 0 1.02-.2 1.41-.59l7.78-7.78 2.81-2.81c.8-.78.8-2.07 0-2.86zM5.41 20L4 18.59l7.72-7.72 1.47 1.35L5.41 20z\"/>\n",
              "  </svg>\n",
              "      </button>\n",
              "      \n",
              "  <style>\n",
              "    .colab-df-container {\n",
              "      display:flex;\n",
              "      flex-wrap:wrap;\n",
              "      gap: 12px;\n",
              "    }\n",
              "\n",
              "    .colab-df-convert {\n",
              "      background-color: #E8F0FE;\n",
              "      border: none;\n",
              "      border-radius: 50%;\n",
              "      cursor: pointer;\n",
              "      display: none;\n",
              "      fill: #1967D2;\n",
              "      height: 32px;\n",
              "      padding: 0 0 0 0;\n",
              "      width: 32px;\n",
              "    }\n",
              "\n",
              "    .colab-df-convert:hover {\n",
              "      background-color: #E2EBFA;\n",
              "      box-shadow: 0px 1px 2px rgba(60, 64, 67, 0.3), 0px 1px 3px 1px rgba(60, 64, 67, 0.15);\n",
              "      fill: #174EA6;\n",
              "    }\n",
              "\n",
              "    [theme=dark] .colab-df-convert {\n",
              "      background-color: #3B4455;\n",
              "      fill: #D2E3FC;\n",
              "    }\n",
              "\n",
              "    [theme=dark] .colab-df-convert:hover {\n",
              "      background-color: #434B5C;\n",
              "      box-shadow: 0px 1px 3px 1px rgba(0, 0, 0, 0.15);\n",
              "      filter: drop-shadow(0px 1px 2px rgba(0, 0, 0, 0.3));\n",
              "      fill: #FFFFFF;\n",
              "    }\n",
              "  </style>\n",
              "\n",
              "      <script>\n",
              "        const buttonEl =\n",
              "          document.querySelector('#df-dfb223c9-2836-4d37-9925-60acae05f48a button.colab-df-convert');\n",
              "        buttonEl.style.display =\n",
              "          google.colab.kernel.accessAllowed ? 'block' : 'none';\n",
              "\n",
              "        async function convertToInteractive(key) {\n",
              "          const element = document.querySelector('#df-dfb223c9-2836-4d37-9925-60acae05f48a');\n",
              "          const dataTable =\n",
              "            await google.colab.kernel.invokeFunction('convertToInteractive',\n",
              "                                                     [key], {});\n",
              "          if (!dataTable) return;\n",
              "\n",
              "          const docLinkHtml = 'Like what you see? Visit the ' +\n",
              "            '<a target=\"_blank\" href=https://colab.research.google.com/notebooks/data_table.ipynb>data table notebook</a>'\n",
              "            + ' to learn more about interactive tables.';\n",
              "          element.innerHTML = '';\n",
              "          dataTable['output_type'] = 'display_data';\n",
              "          await google.colab.output.renderOutput(dataTable, element);\n",
              "          const docLink = document.createElement('div');\n",
              "          docLink.innerHTML = docLinkHtml;\n",
              "          element.appendChild(docLink);\n",
              "        }\n",
              "      </script>\n",
              "    </div>\n",
              "  </div>\n",
              "  "
            ]
          },
          "metadata": {},
          "execution_count": 47
        }
      ]
    },
    {
      "cell_type": "markdown",
      "source": [
        "## 4.2 Ordinal Encoding for 'Gender'"
      ],
      "metadata": {
        "id": "G_Y8aF9fuoqr"
      }
    },
    {
      "cell_type": "code",
      "source": [
        "# Ordinal encoding for Gender\n",
        "# Male = 1, Female = 0\n",
        "from sklearn.preprocessing import OrdinalEncoder\n",
        "\n",
        "categories = ['Gender']\n",
        "enc_oe = OrdinalEncoder()\n",
        "enc_oe.fit(X_train[categories])\n",
        "\n",
        "X_train[categories] = enc_oe.transform(X_train[categories])\n",
        "X_test[categories] = enc_oe.transform(X_test[categories])"
      ],
      "metadata": {
        "id": "Lzw_pjECtUrh"
      },
      "execution_count": null,
      "outputs": []
    },
    {
      "cell_type": "code",
      "source": [
        "X_train.head(10)"
      ],
      "metadata": {
        "colab": {
          "base_uri": "https://localhost:8080/",
          "height": 427
        },
        "id": "9orvhDJUtWU3",
        "outputId": "8d5495dc-0d7e-4c5d-89d7-f43d4a623934"
      },
      "execution_count": null,
      "outputs": [
        {
          "output_type": "execute_result",
          "data": {
            "text/plain": [
              "   CreditScore  Gender  Age  Tenure    Balance  NumOfProducts  HasCrCard  \\\n",
              "0          633     1.0   42      10       0.00              1          0   \n",
              "1          708     0.0   23       4   71433.08              1          1   \n",
              "2          548     0.0   37       9       0.00              2          0   \n",
              "3          645     0.0   48       7   90612.34              1          1   \n",
              "4          729     0.0   45       7   91091.06              2          1   \n",
              "5          681     0.0   43       8  154100.30              1          0   \n",
              "6          685     1.0   57       7  101868.51              1          0   \n",
              "7          670     1.0   33       1       0.00              2          1   \n",
              "8          672     1.0   68       0  126061.51              2          1   \n",
              "9          794     0.0   54       1   75900.84              1          1   \n",
              "\n",
              "   IsActiveMember  EstimatedSalary  Geography_France  Geography_Germany  \\\n",
              "0               1         79408.17               0.0                0.0   \n",
              "1               0        103697.57               0.0                1.0   \n",
              "2               0         98029.58               1.0                0.0   \n",
              "3               1        149139.13               1.0                0.0   \n",
              "4               0         71133.12               0.0                0.0   \n",
              "5               0        114659.81               1.0                0.0   \n",
              "6               1        113483.96               0.0                1.0   \n",
              "7               1         86413.11               1.0                0.0   \n",
              "8               1        184936.77               0.0                1.0   \n",
              "9               1        192154.66               0.0                1.0   \n",
              "\n",
              "   Geography_Spain  \n",
              "0              1.0  \n",
              "1              0.0  \n",
              "2              0.0  \n",
              "3              0.0  \n",
              "4              1.0  \n",
              "5              0.0  \n",
              "6              0.0  \n",
              "7              0.0  \n",
              "8              0.0  \n",
              "9              0.0  "
            ],
            "text/html": [
              "\n",
              "  <div id=\"df-6b153411-3883-4ef8-bc93-0f90e23bc96d\">\n",
              "    <div class=\"colab-df-container\">\n",
              "      <div>\n",
              "<style scoped>\n",
              "    .dataframe tbody tr th:only-of-type {\n",
              "        vertical-align: middle;\n",
              "    }\n",
              "\n",
              "    .dataframe tbody tr th {\n",
              "        vertical-align: top;\n",
              "    }\n",
              "\n",
              "    .dataframe thead th {\n",
              "        text-align: right;\n",
              "    }\n",
              "</style>\n",
              "<table border=\"1\" class=\"dataframe\">\n",
              "  <thead>\n",
              "    <tr style=\"text-align: right;\">\n",
              "      <th></th>\n",
              "      <th>CreditScore</th>\n",
              "      <th>Gender</th>\n",
              "      <th>Age</th>\n",
              "      <th>Tenure</th>\n",
              "      <th>Balance</th>\n",
              "      <th>NumOfProducts</th>\n",
              "      <th>HasCrCard</th>\n",
              "      <th>IsActiveMember</th>\n",
              "      <th>EstimatedSalary</th>\n",
              "      <th>Geography_France</th>\n",
              "      <th>Geography_Germany</th>\n",
              "      <th>Geography_Spain</th>\n",
              "    </tr>\n",
              "  </thead>\n",
              "  <tbody>\n",
              "    <tr>\n",
              "      <th>0</th>\n",
              "      <td>633</td>\n",
              "      <td>1.0</td>\n",
              "      <td>42</td>\n",
              "      <td>10</td>\n",
              "      <td>0.00</td>\n",
              "      <td>1</td>\n",
              "      <td>0</td>\n",
              "      <td>1</td>\n",
              "      <td>79408.17</td>\n",
              "      <td>0.0</td>\n",
              "      <td>0.0</td>\n",
              "      <td>1.0</td>\n",
              "    </tr>\n",
              "    <tr>\n",
              "      <th>1</th>\n",
              "      <td>708</td>\n",
              "      <td>0.0</td>\n",
              "      <td>23</td>\n",
              "      <td>4</td>\n",
              "      <td>71433.08</td>\n",
              "      <td>1</td>\n",
              "      <td>1</td>\n",
              "      <td>0</td>\n",
              "      <td>103697.57</td>\n",
              "      <td>0.0</td>\n",
              "      <td>1.0</td>\n",
              "      <td>0.0</td>\n",
              "    </tr>\n",
              "    <tr>\n",
              "      <th>2</th>\n",
              "      <td>548</td>\n",
              "      <td>0.0</td>\n",
              "      <td>37</td>\n",
              "      <td>9</td>\n",
              "      <td>0.00</td>\n",
              "      <td>2</td>\n",
              "      <td>0</td>\n",
              "      <td>0</td>\n",
              "      <td>98029.58</td>\n",
              "      <td>1.0</td>\n",
              "      <td>0.0</td>\n",
              "      <td>0.0</td>\n",
              "    </tr>\n",
              "    <tr>\n",
              "      <th>3</th>\n",
              "      <td>645</td>\n",
              "      <td>0.0</td>\n",
              "      <td>48</td>\n",
              "      <td>7</td>\n",
              "      <td>90612.34</td>\n",
              "      <td>1</td>\n",
              "      <td>1</td>\n",
              "      <td>1</td>\n",
              "      <td>149139.13</td>\n",
              "      <td>1.0</td>\n",
              "      <td>0.0</td>\n",
              "      <td>0.0</td>\n",
              "    </tr>\n",
              "    <tr>\n",
              "      <th>4</th>\n",
              "      <td>729</td>\n",
              "      <td>0.0</td>\n",
              "      <td>45</td>\n",
              "      <td>7</td>\n",
              "      <td>91091.06</td>\n",
              "      <td>2</td>\n",
              "      <td>1</td>\n",
              "      <td>0</td>\n",
              "      <td>71133.12</td>\n",
              "      <td>0.0</td>\n",
              "      <td>0.0</td>\n",
              "      <td>1.0</td>\n",
              "    </tr>\n",
              "    <tr>\n",
              "      <th>5</th>\n",
              "      <td>681</td>\n",
              "      <td>0.0</td>\n",
              "      <td>43</td>\n",
              "      <td>8</td>\n",
              "      <td>154100.30</td>\n",
              "      <td>1</td>\n",
              "      <td>0</td>\n",
              "      <td>0</td>\n",
              "      <td>114659.81</td>\n",
              "      <td>1.0</td>\n",
              "      <td>0.0</td>\n",
              "      <td>0.0</td>\n",
              "    </tr>\n",
              "    <tr>\n",
              "      <th>6</th>\n",
              "      <td>685</td>\n",
              "      <td>1.0</td>\n",
              "      <td>57</td>\n",
              "      <td>7</td>\n",
              "      <td>101868.51</td>\n",
              "      <td>1</td>\n",
              "      <td>0</td>\n",
              "      <td>1</td>\n",
              "      <td>113483.96</td>\n",
              "      <td>0.0</td>\n",
              "      <td>1.0</td>\n",
              "      <td>0.0</td>\n",
              "    </tr>\n",
              "    <tr>\n",
              "      <th>7</th>\n",
              "      <td>670</td>\n",
              "      <td>1.0</td>\n",
              "      <td>33</td>\n",
              "      <td>1</td>\n",
              "      <td>0.00</td>\n",
              "      <td>2</td>\n",
              "      <td>1</td>\n",
              "      <td>1</td>\n",
              "      <td>86413.11</td>\n",
              "      <td>1.0</td>\n",
              "      <td>0.0</td>\n",
              "      <td>0.0</td>\n",
              "    </tr>\n",
              "    <tr>\n",
              "      <th>8</th>\n",
              "      <td>672</td>\n",
              "      <td>1.0</td>\n",
              "      <td>68</td>\n",
              "      <td>0</td>\n",
              "      <td>126061.51</td>\n",
              "      <td>2</td>\n",
              "      <td>1</td>\n",
              "      <td>1</td>\n",
              "      <td>184936.77</td>\n",
              "      <td>0.0</td>\n",
              "      <td>1.0</td>\n",
              "      <td>0.0</td>\n",
              "    </tr>\n",
              "    <tr>\n",
              "      <th>9</th>\n",
              "      <td>794</td>\n",
              "      <td>0.0</td>\n",
              "      <td>54</td>\n",
              "      <td>1</td>\n",
              "      <td>75900.84</td>\n",
              "      <td>1</td>\n",
              "      <td>1</td>\n",
              "      <td>1</td>\n",
              "      <td>192154.66</td>\n",
              "      <td>0.0</td>\n",
              "      <td>1.0</td>\n",
              "      <td>0.0</td>\n",
              "    </tr>\n",
              "  </tbody>\n",
              "</table>\n",
              "</div>\n",
              "      <button class=\"colab-df-convert\" onclick=\"convertToInteractive('df-6b153411-3883-4ef8-bc93-0f90e23bc96d')\"\n",
              "              title=\"Convert this dataframe to an interactive table.\"\n",
              "              style=\"display:none;\">\n",
              "        \n",
              "  <svg xmlns=\"http://www.w3.org/2000/svg\" height=\"24px\"viewBox=\"0 0 24 24\"\n",
              "       width=\"24px\">\n",
              "    <path d=\"M0 0h24v24H0V0z\" fill=\"none\"/>\n",
              "    <path d=\"M18.56 5.44l.94 2.06.94-2.06 2.06-.94-2.06-.94-.94-2.06-.94 2.06-2.06.94zm-11 1L8.5 8.5l.94-2.06 2.06-.94-2.06-.94L8.5 2.5l-.94 2.06-2.06.94zm10 10l.94 2.06.94-2.06 2.06-.94-2.06-.94-.94-2.06-.94 2.06-2.06.94z\"/><path d=\"M17.41 7.96l-1.37-1.37c-.4-.4-.92-.59-1.43-.59-.52 0-1.04.2-1.43.59L10.3 9.45l-7.72 7.72c-.78.78-.78 2.05 0 2.83L4 21.41c.39.39.9.59 1.41.59.51 0 1.02-.2 1.41-.59l7.78-7.78 2.81-2.81c.8-.78.8-2.07 0-2.86zM5.41 20L4 18.59l7.72-7.72 1.47 1.35L5.41 20z\"/>\n",
              "  </svg>\n",
              "      </button>\n",
              "      \n",
              "  <style>\n",
              "    .colab-df-container {\n",
              "      display:flex;\n",
              "      flex-wrap:wrap;\n",
              "      gap: 12px;\n",
              "    }\n",
              "\n",
              "    .colab-df-convert {\n",
              "      background-color: #E8F0FE;\n",
              "      border: none;\n",
              "      border-radius: 50%;\n",
              "      cursor: pointer;\n",
              "      display: none;\n",
              "      fill: #1967D2;\n",
              "      height: 32px;\n",
              "      padding: 0 0 0 0;\n",
              "      width: 32px;\n",
              "    }\n",
              "\n",
              "    .colab-df-convert:hover {\n",
              "      background-color: #E2EBFA;\n",
              "      box-shadow: 0px 1px 2px rgba(60, 64, 67, 0.3), 0px 1px 3px 1px rgba(60, 64, 67, 0.15);\n",
              "      fill: #174EA6;\n",
              "    }\n",
              "\n",
              "    [theme=dark] .colab-df-convert {\n",
              "      background-color: #3B4455;\n",
              "      fill: #D2E3FC;\n",
              "    }\n",
              "\n",
              "    [theme=dark] .colab-df-convert:hover {\n",
              "      background-color: #434B5C;\n",
              "      box-shadow: 0px 1px 3px 1px rgba(0, 0, 0, 0.15);\n",
              "      filter: drop-shadow(0px 1px 2px rgba(0, 0, 0, 0.3));\n",
              "      fill: #FFFFFF;\n",
              "    }\n",
              "  </style>\n",
              "\n",
              "      <script>\n",
              "        const buttonEl =\n",
              "          document.querySelector('#df-6b153411-3883-4ef8-bc93-0f90e23bc96d button.colab-df-convert');\n",
              "        buttonEl.style.display =\n",
              "          google.colab.kernel.accessAllowed ? 'block' : 'none';\n",
              "\n",
              "        async function convertToInteractive(key) {\n",
              "          const element = document.querySelector('#df-6b153411-3883-4ef8-bc93-0f90e23bc96d');\n",
              "          const dataTable =\n",
              "            await google.colab.kernel.invokeFunction('convertToInteractive',\n",
              "                                                     [key], {});\n",
              "          if (!dataTable) return;\n",
              "\n",
              "          const docLinkHtml = 'Like what you see? Visit the ' +\n",
              "            '<a target=\"_blank\" href=https://colab.research.google.com/notebooks/data_table.ipynb>data table notebook</a>'\n",
              "            + ' to learn more about interactive tables.';\n",
              "          element.innerHTML = '';\n",
              "          dataTable['output_type'] = 'display_data';\n",
              "          await google.colab.output.renderOutput(dataTable, element);\n",
              "          const docLink = document.createElement('div');\n",
              "          docLink.innerHTML = docLinkHtml;\n",
              "          element.appendChild(docLink);\n",
              "        }\n",
              "      </script>\n",
              "    </div>\n",
              "  </div>\n",
              "  "
            ]
          },
          "metadata": {},
          "execution_count": 60
        }
      ]
    },
    {
      "cell_type": "markdown",
      "source": [
        "## 4.3 Data Scaling (Standardization)"
      ],
      "metadata": {
        "id": "gBWnJ9FluwjG"
      }
    },
    {
      "cell_type": "markdown",
      "source": [
        "Use standardization to scale the numerical features in both training and test data."
      ],
      "metadata": {
        "id": "pVvTQ7GfvCGa"
      }
    },
    {
      "cell_type": "markdown",
      "source": [
        "Two different Scalers:\n",
        "\n",
        "StardarScaler = standardization (x - mean)/std -> mu = 0, var = 1\n",
        "\n",
        "MinMaxScaler = normalization (x - x_min)/(x_max - x_min) --> range: [0,1]"
      ],
      "metadata": {
        "id": "FArqbyD0vJ2g"
      }
    },
    {
      "cell_type": "code",
      "source": [
        "scaler = StandardScaler()\n",
        "\n",
        "scaler.fit(X_train[num_ft])\n",
        "X_train[num_ft] = scaler.transform(X_train[num_ft])\n",
        "X_test[num_ft] = scaler.transform(X_test[num_ft])"
      ],
      "metadata": {
        "id": "YaSUQ-YMu6UK"
      },
      "execution_count": null,
      "outputs": []
    },
    {
      "cell_type": "code",
      "source": [
        "X_train.head(10)"
      ],
      "metadata": {
        "colab": {
          "base_uri": "https://localhost:8080/",
          "height": 427
        },
        "id": "qP9sQXYrvrLv",
        "outputId": "44f5b976-80ed-4edb-e7e4-3237fe30a7d7"
      },
      "execution_count": null,
      "outputs": [
        {
          "output_type": "execute_result",
          "data": {
            "text/plain": [
              "   CreditScore  Gender       Age    Tenure   Balance  NumOfProducts  \\\n",
              "0    -0.172985     1.0  0.289202  1.731199 -1.218916      -0.912769   \n",
              "1     0.602407     0.0 -1.509319 -0.341156 -0.076977      -0.912769   \n",
              "2    -1.051762     0.0 -0.184093  1.385806 -1.218916       0.796109   \n",
              "3    -0.048922     0.0  0.857156  0.695022  0.229625      -0.912769   \n",
              "4     0.819517     0.0  0.573179  0.695022  0.237278       0.796109   \n",
              "5     0.323266     0.0  0.383861  1.040414  1.244552      -0.912769   \n",
              "6     0.364620     1.0  1.709087  0.695022  0.409568      -0.912769   \n",
              "7     0.209542     1.0 -0.562729 -1.377333 -1.218916       0.796109   \n",
              "8     0.230219     1.0  2.750336 -1.722725  0.796320       0.796109   \n",
              "9     1.491523     0.0  1.425110 -1.377333 -0.005555      -0.912769   \n",
              "\n",
              "   HasCrCard  IsActiveMember  EstimatedSalary  Geography_France  \\\n",
              "0  -1.542199        0.968496        -0.352044               0.0   \n",
              "1   0.648425       -1.032529         0.072315               0.0   \n",
              "2  -1.542199       -1.032529        -0.026711               1.0   \n",
              "3   0.648425        0.968496         0.866221               1.0   \n",
              "4   0.648425       -1.032529        -0.496617               0.0   \n",
              "5  -1.542199       -1.032529         0.263835               1.0   \n",
              "6  -1.542199        0.968496         0.243292               0.0   \n",
              "7   0.648425        0.968496        -0.229661               1.0   \n",
              "8   0.648425        0.968496         1.491640               0.0   \n",
              "9   0.648425        0.968496         1.617743               0.0   \n",
              "\n",
              "   Geography_Germany  Geography_Spain  \n",
              "0                0.0              1.0  \n",
              "1                1.0              0.0  \n",
              "2                0.0              0.0  \n",
              "3                0.0              0.0  \n",
              "4                0.0              1.0  \n",
              "5                0.0              0.0  \n",
              "6                1.0              0.0  \n",
              "7                0.0              0.0  \n",
              "8                1.0              0.0  \n",
              "9                1.0              0.0  "
            ],
            "text/html": [
              "\n",
              "  <div id=\"df-857335b5-9155-4aab-8c9d-a4085b3a9a83\">\n",
              "    <div class=\"colab-df-container\">\n",
              "      <div>\n",
              "<style scoped>\n",
              "    .dataframe tbody tr th:only-of-type {\n",
              "        vertical-align: middle;\n",
              "    }\n",
              "\n",
              "    .dataframe tbody tr th {\n",
              "        vertical-align: top;\n",
              "    }\n",
              "\n",
              "    .dataframe thead th {\n",
              "        text-align: right;\n",
              "    }\n",
              "</style>\n",
              "<table border=\"1\" class=\"dataframe\">\n",
              "  <thead>\n",
              "    <tr style=\"text-align: right;\">\n",
              "      <th></th>\n",
              "      <th>CreditScore</th>\n",
              "      <th>Gender</th>\n",
              "      <th>Age</th>\n",
              "      <th>Tenure</th>\n",
              "      <th>Balance</th>\n",
              "      <th>NumOfProducts</th>\n",
              "      <th>HasCrCard</th>\n",
              "      <th>IsActiveMember</th>\n",
              "      <th>EstimatedSalary</th>\n",
              "      <th>Geography_France</th>\n",
              "      <th>Geography_Germany</th>\n",
              "      <th>Geography_Spain</th>\n",
              "    </tr>\n",
              "  </thead>\n",
              "  <tbody>\n",
              "    <tr>\n",
              "      <th>0</th>\n",
              "      <td>-0.172985</td>\n",
              "      <td>1.0</td>\n",
              "      <td>0.289202</td>\n",
              "      <td>1.731199</td>\n",
              "      <td>-1.218916</td>\n",
              "      <td>-0.912769</td>\n",
              "      <td>-1.542199</td>\n",
              "      <td>0.968496</td>\n",
              "      <td>-0.352044</td>\n",
              "      <td>0.0</td>\n",
              "      <td>0.0</td>\n",
              "      <td>1.0</td>\n",
              "    </tr>\n",
              "    <tr>\n",
              "      <th>1</th>\n",
              "      <td>0.602407</td>\n",
              "      <td>0.0</td>\n",
              "      <td>-1.509319</td>\n",
              "      <td>-0.341156</td>\n",
              "      <td>-0.076977</td>\n",
              "      <td>-0.912769</td>\n",
              "      <td>0.648425</td>\n",
              "      <td>-1.032529</td>\n",
              "      <td>0.072315</td>\n",
              "      <td>0.0</td>\n",
              "      <td>1.0</td>\n",
              "      <td>0.0</td>\n",
              "    </tr>\n",
              "    <tr>\n",
              "      <th>2</th>\n",
              "      <td>-1.051762</td>\n",
              "      <td>0.0</td>\n",
              "      <td>-0.184093</td>\n",
              "      <td>1.385806</td>\n",
              "      <td>-1.218916</td>\n",
              "      <td>0.796109</td>\n",
              "      <td>-1.542199</td>\n",
              "      <td>-1.032529</td>\n",
              "      <td>-0.026711</td>\n",
              "      <td>1.0</td>\n",
              "      <td>0.0</td>\n",
              "      <td>0.0</td>\n",
              "    </tr>\n",
              "    <tr>\n",
              "      <th>3</th>\n",
              "      <td>-0.048922</td>\n",
              "      <td>0.0</td>\n",
              "      <td>0.857156</td>\n",
              "      <td>0.695022</td>\n",
              "      <td>0.229625</td>\n",
              "      <td>-0.912769</td>\n",
              "      <td>0.648425</td>\n",
              "      <td>0.968496</td>\n",
              "      <td>0.866221</td>\n",
              "      <td>1.0</td>\n",
              "      <td>0.0</td>\n",
              "      <td>0.0</td>\n",
              "    </tr>\n",
              "    <tr>\n",
              "      <th>4</th>\n",
              "      <td>0.819517</td>\n",
              "      <td>0.0</td>\n",
              "      <td>0.573179</td>\n",
              "      <td>0.695022</td>\n",
              "      <td>0.237278</td>\n",
              "      <td>0.796109</td>\n",
              "      <td>0.648425</td>\n",
              "      <td>-1.032529</td>\n",
              "      <td>-0.496617</td>\n",
              "      <td>0.0</td>\n",
              "      <td>0.0</td>\n",
              "      <td>1.0</td>\n",
              "    </tr>\n",
              "    <tr>\n",
              "      <th>5</th>\n",
              "      <td>0.323266</td>\n",
              "      <td>0.0</td>\n",
              "      <td>0.383861</td>\n",
              "      <td>1.040414</td>\n",
              "      <td>1.244552</td>\n",
              "      <td>-0.912769</td>\n",
              "      <td>-1.542199</td>\n",
              "      <td>-1.032529</td>\n",
              "      <td>0.263835</td>\n",
              "      <td>1.0</td>\n",
              "      <td>0.0</td>\n",
              "      <td>0.0</td>\n",
              "    </tr>\n",
              "    <tr>\n",
              "      <th>6</th>\n",
              "      <td>0.364620</td>\n",
              "      <td>1.0</td>\n",
              "      <td>1.709087</td>\n",
              "      <td>0.695022</td>\n",
              "      <td>0.409568</td>\n",
              "      <td>-0.912769</td>\n",
              "      <td>-1.542199</td>\n",
              "      <td>0.968496</td>\n",
              "      <td>0.243292</td>\n",
              "      <td>0.0</td>\n",
              "      <td>1.0</td>\n",
              "      <td>0.0</td>\n",
              "    </tr>\n",
              "    <tr>\n",
              "      <th>7</th>\n",
              "      <td>0.209542</td>\n",
              "      <td>1.0</td>\n",
              "      <td>-0.562729</td>\n",
              "      <td>-1.377333</td>\n",
              "      <td>-1.218916</td>\n",
              "      <td>0.796109</td>\n",
              "      <td>0.648425</td>\n",
              "      <td>0.968496</td>\n",
              "      <td>-0.229661</td>\n",
              "      <td>1.0</td>\n",
              "      <td>0.0</td>\n",
              "      <td>0.0</td>\n",
              "    </tr>\n",
              "    <tr>\n",
              "      <th>8</th>\n",
              "      <td>0.230219</td>\n",
              "      <td>1.0</td>\n",
              "      <td>2.750336</td>\n",
              "      <td>-1.722725</td>\n",
              "      <td>0.796320</td>\n",
              "      <td>0.796109</td>\n",
              "      <td>0.648425</td>\n",
              "      <td>0.968496</td>\n",
              "      <td>1.491640</td>\n",
              "      <td>0.0</td>\n",
              "      <td>1.0</td>\n",
              "      <td>0.0</td>\n",
              "    </tr>\n",
              "    <tr>\n",
              "      <th>9</th>\n",
              "      <td>1.491523</td>\n",
              "      <td>0.0</td>\n",
              "      <td>1.425110</td>\n",
              "      <td>-1.377333</td>\n",
              "      <td>-0.005555</td>\n",
              "      <td>-0.912769</td>\n",
              "      <td>0.648425</td>\n",
              "      <td>0.968496</td>\n",
              "      <td>1.617743</td>\n",
              "      <td>0.0</td>\n",
              "      <td>1.0</td>\n",
              "      <td>0.0</td>\n",
              "    </tr>\n",
              "  </tbody>\n",
              "</table>\n",
              "</div>\n",
              "      <button class=\"colab-df-convert\" onclick=\"convertToInteractive('df-857335b5-9155-4aab-8c9d-a4085b3a9a83')\"\n",
              "              title=\"Convert this dataframe to an interactive table.\"\n",
              "              style=\"display:none;\">\n",
              "        \n",
              "  <svg xmlns=\"http://www.w3.org/2000/svg\" height=\"24px\"viewBox=\"0 0 24 24\"\n",
              "       width=\"24px\">\n",
              "    <path d=\"M0 0h24v24H0V0z\" fill=\"none\"/>\n",
              "    <path d=\"M18.56 5.44l.94 2.06.94-2.06 2.06-.94-2.06-.94-.94-2.06-.94 2.06-2.06.94zm-11 1L8.5 8.5l.94-2.06 2.06-.94-2.06-.94L8.5 2.5l-.94 2.06-2.06.94zm10 10l.94 2.06.94-2.06 2.06-.94-2.06-.94-.94-2.06-.94 2.06-2.06.94z\"/><path d=\"M17.41 7.96l-1.37-1.37c-.4-.4-.92-.59-1.43-.59-.52 0-1.04.2-1.43.59L10.3 9.45l-7.72 7.72c-.78.78-.78 2.05 0 2.83L4 21.41c.39.39.9.59 1.41.59.51 0 1.02-.2 1.41-.59l7.78-7.78 2.81-2.81c.8-.78.8-2.07 0-2.86zM5.41 20L4 18.59l7.72-7.72 1.47 1.35L5.41 20z\"/>\n",
              "  </svg>\n",
              "      </button>\n",
              "      \n",
              "  <style>\n",
              "    .colab-df-container {\n",
              "      display:flex;\n",
              "      flex-wrap:wrap;\n",
              "      gap: 12px;\n",
              "    }\n",
              "\n",
              "    .colab-df-convert {\n",
              "      background-color: #E8F0FE;\n",
              "      border: none;\n",
              "      border-radius: 50%;\n",
              "      cursor: pointer;\n",
              "      display: none;\n",
              "      fill: #1967D2;\n",
              "      height: 32px;\n",
              "      padding: 0 0 0 0;\n",
              "      width: 32px;\n",
              "    }\n",
              "\n",
              "    .colab-df-convert:hover {\n",
              "      background-color: #E2EBFA;\n",
              "      box-shadow: 0px 1px 2px rgba(60, 64, 67, 0.3), 0px 1px 3px 1px rgba(60, 64, 67, 0.15);\n",
              "      fill: #174EA6;\n",
              "    }\n",
              "\n",
              "    [theme=dark] .colab-df-convert {\n",
              "      background-color: #3B4455;\n",
              "      fill: #D2E3FC;\n",
              "    }\n",
              "\n",
              "    [theme=dark] .colab-df-convert:hover {\n",
              "      background-color: #434B5C;\n",
              "      box-shadow: 0px 1px 3px 1px rgba(0, 0, 0, 0.15);\n",
              "      filter: drop-shadow(0px 1px 2px rgba(0, 0, 0, 0.3));\n",
              "      fill: #FFFFFF;\n",
              "    }\n",
              "  </style>\n",
              "\n",
              "      <script>\n",
              "        const buttonEl =\n",
              "          document.querySelector('#df-857335b5-9155-4aab-8c9d-a4085b3a9a83 button.colab-df-convert');\n",
              "        buttonEl.style.display =\n",
              "          google.colab.kernel.accessAllowed ? 'block' : 'none';\n",
              "\n",
              "        async function convertToInteractive(key) {\n",
              "          const element = document.querySelector('#df-857335b5-9155-4aab-8c9d-a4085b3a9a83');\n",
              "          const dataTable =\n",
              "            await google.colab.kernel.invokeFunction('convertToInteractive',\n",
              "                                                     [key], {});\n",
              "          if (!dataTable) return;\n",
              "\n",
              "          const docLinkHtml = 'Like what you see? Visit the ' +\n",
              "            '<a target=\"_blank\" href=https://colab.research.google.com/notebooks/data_table.ipynb>data table notebook</a>'\n",
              "            + ' to learn more about interactive tables.';\n",
              "          element.innerHTML = '';\n",
              "          dataTable['output_type'] = 'display_data';\n",
              "          await google.colab.output.renderOutput(dataTable, element);\n",
              "          const docLink = document.createElement('div');\n",
              "          docLink.innerHTML = docLinkHtml;\n",
              "          element.appendChild(docLink);\n",
              "        }\n",
              "      </script>\n",
              "    </div>\n",
              "  </div>\n",
              "  "
            ]
          },
          "metadata": {},
          "execution_count": 63
        }
      ]
    },
    {
      "cell_type": "markdown",
      "source": [
        "# Part 5. Model Training"
      ],
      "metadata": {
        "id": "QCMWzCVtwgaI"
      }
    },
    {
      "cell_type": "code",
      "source": [
        "# Logistic Regression\n",
        "classifier_logistic = LogisticRegression()\n",
        "\n",
        "# Random Forest\n",
        "classifier_RF = RandomForestClassifier()\n",
        "\n",
        "# K Nearest Neighbors\n",
        "classifier_KNN = KNeighborsClassifier()\n"
      ],
      "metadata": {
        "id": "FxFmUUomwgCP"
      },
      "execution_count": null,
      "outputs": []
    },
    {
      "cell_type": "code",
      "source": [
        "# This function prints out grid search results \n",
        "# In this case, best score is the accuracy\n",
        "def print_grid_search_metrics(gs):\n",
        "    print (\"Best score: \" + str(gs.best_score_))\n",
        "    print (\"Best parameters set:\")\n",
        "    best_parameters = gs.best_params_\n",
        "    for param_name in sorted(best_parameters.keys()):\n",
        "        print(param_name + ':' + str(best_parameters[param_name]))\n"
      ],
      "metadata": {
        "id": "v7T2zHXE0LED"
      },
      "execution_count": null,
      "outputs": []
    },
    {
      "cell_type": "markdown",
      "source": [
        "## 5.1 Logistic Regression"
      ],
      "metadata": {
        "id": "RIT602l6xKxF"
      }
    },
    {
      "cell_type": "code",
      "source": [
        "# Model training \n",
        "classifier_logistic.fit(X_train, y_train)\n",
        "# Prediction of test data\n",
        "classifier_logistic.predict(X_test)\n",
        "# Accuracy score of test data\n",
        "classifier_logistic.score(X_test, y_test)"
      ],
      "metadata": {
        "colab": {
          "base_uri": "https://localhost:8080/"
        },
        "id": "C375rLM60yMP",
        "outputId": "1b063e00-e9b7-42dd-acb8-65fd3d60cb79"
      },
      "execution_count": null,
      "outputs": [
        {
          "output_type": "execute_result",
          "data": {
            "text/plain": [
              "0.8088"
            ]
          },
          "metadata": {},
          "execution_count": 67
        }
      ]
    },
    {
      "cell_type": "markdown",
      "source": [
        "Penalty: L1: Lasso; L2: Ridge\n",
        "\n",
        "C = 1/lambda value (weight)\n",
        "\n",
        "C is the inverse of regularization strength; smaller values specify stronger regularization.\n"
      ],
      "metadata": {
        "id": "9_K8fr9H0plU"
      }
    },
    {
      "cell_type": "code",
      "source": [
        "parameters = {\n",
        "    'C':(0.01, 0.05, 0.1, 0.2, 1),\n",
        "    'penalty':('l1','l2')\n",
        "} "
      ],
      "metadata": {
        "id": "MtZvqEXMxHcu"
      },
      "execution_count": null,
      "outputs": []
    },
    {
      "cell_type": "code",
      "source": [
        "Grid_LR = GridSearchCV(LogisticRegression(solver = 'liblinear'), parameters, cv = 5)\n",
        "# solver: the algorithm to find the weights that minimize the cost function\n",
        "Grid_LR.fit(X_train, y_train)"
      ],
      "metadata": {
        "colab": {
          "base_uri": "https://localhost:8080/"
        },
        "id": "gaOC4FSu0boN",
        "outputId": "418602db-cf95-4855-f12b-26df10c86965"
      },
      "execution_count": null,
      "outputs": [
        {
          "output_type": "execute_result",
          "data": {
            "text/plain": [
              "GridSearchCV(cv=5, estimator=LogisticRegression(solver='liblinear'),\n",
              "             param_grid={'C': (0.01, 0.05, 0.1, 0.2, 1),\n",
              "                         'penalty': ('l1', 'l2')})"
            ]
          },
          "metadata": {},
          "execution_count": 149
        }
      ]
    },
    {
      "cell_type": "code",
      "source": [
        "# Print out the best hyperparameter combination\n",
        "# C = 1/lambda\n",
        "print_grid_search_metrics(Grid_LR)\n",
        "\n",
        "# C = 1, can adjust C within [0.9, 1.1] for precision"
      ],
      "metadata": {
        "colab": {
          "base_uri": "https://localhost:8080/"
        },
        "id": "JufDAbfU3HEH",
        "outputId": "f9eeab7c-770a-4faf-ea30-6515ed7af7c7"
      },
      "execution_count": null,
      "outputs": [
        {
          "output_type": "stream",
          "name": "stdout",
          "text": [
            "Best score: 0.8125333333333333\n",
            "Best parameters set:\n",
            "C:1\n",
            "penalty:l1\n"
          ]
        }
      ]
    },
    {
      "cell_type": "code",
      "source": [
        "best_LR_model = Grid_LR.best_estimator_"
      ],
      "metadata": {
        "id": "sVlYfKXu3fsA"
      },
      "execution_count": null,
      "outputs": []
    },
    {
      "cell_type": "code",
      "source": [
        "# Prediction of test data\n",
        "best_LR_model.predict(X_test)"
      ],
      "metadata": {
        "colab": {
          "base_uri": "https://localhost:8080/"
        },
        "id": "TR-90VV73kwv",
        "outputId": "47d1d08a-8f31-436d-c310-65006ba009c1"
      },
      "execution_count": null,
      "outputs": [
        {
          "output_type": "execute_result",
          "data": {
            "text/plain": [
              "array([0, 0, 0, ..., 0, 0, 0])"
            ]
          },
          "metadata": {},
          "execution_count": 153
        }
      ]
    },
    {
      "cell_type": "code",
      "source": [
        "# Accuracy of test data\n",
        "best_LR_model.score(X_test, y_test)"
      ],
      "metadata": {
        "colab": {
          "base_uri": "https://localhost:8080/"
        },
        "id": "SH7JBxyO3mIG",
        "outputId": "d7e053b6-710b-43c2-9b6a-d570ce5f1e08"
      },
      "execution_count": null,
      "outputs": [
        {
          "output_type": "execute_result",
          "data": {
            "text/plain": [
              "0.8092"
            ]
          },
          "metadata": {},
          "execution_count": 154
        }
      ]
    },
    {
      "cell_type": "code",
      "source": [
        "LR_models = pd.DataFrame(Grid_LR.cv_results_)\n",
        "res = (LR_models.pivot(index = 'param_penalty', columns = 'param_C', values = 'mean_test_score'))\n",
        "_ = sns.heatmap(res, cmap = 'Blues')"
      ],
      "metadata": {
        "colab": {
          "base_uri": "https://localhost:8080/",
          "height": 280
        },
        "id": "Lyu-oSXt3oDI",
        "outputId": "38496a3f-69e3-41b0-dd90-d48483f1585d"
      },
      "execution_count": null,
      "outputs": [
        {
          "output_type": "display_data",
          "data": {
            "text/plain": [
              "<Figure size 432x288 with 2 Axes>"
            ],
            "image/png": "[encoded data removed]"
          },
          "metadata": {
            "needs_background": "light"
          }
        }
      ]
    },
    {
      "cell_type": "markdown",
      "source": [
        "## 5.2 Random Forest"
      ],
      "metadata": {
        "id": "Ywog7S-v4AHh"
      }
    },
    {
      "cell_type": "code",
      "source": [
        "# Possible hyperparamter options for Random Forest\n",
        "# Choose the number of trees\n",
        "parameters = {\n",
        "    'n_estimators' : [60, 80, 100],\n",
        "    'max_depth': [1, 5, 10]\n",
        "}\n",
        "# n_estimators: the number of tree in random forest，\n",
        "# max_depth: the maximum deapth of the tree"
      ],
      "metadata": {
        "id": "S6OjzmL_4Ioo"
      },
      "execution_count": null,
      "outputs": []
    },
    {
      "cell_type": "code",
      "source": [
        "Grid_RF = GridSearchCV(RandomForestClassifier(), parameters, cv=5)\n",
        "Grid_RF.fit(X_train, y_train)"
      ],
      "metadata": {
        "colab": {
          "base_uri": "https://localhost:8080/"
        },
        "id": "_1e6FP014dpf",
        "outputId": "e62875fd-b012-4a8e-83c3-00926c3aa5c5"
      },
      "execution_count": null,
      "outputs": [
        {
          "output_type": "execute_result",
          "data": {
            "text/plain": [
              "GridSearchCV(cv=5, estimator=RandomForestClassifier(),\n",
              "             param_grid={'max_depth': [1, 5, 10],\n",
              "                         'n_estimators': [60, 80, 100]})"
            ]
          },
          "metadata": {},
          "execution_count": 87
        }
      ]
    },
    {
      "cell_type": "code",
      "source": [
        "# Best number of tress\n",
        "print_grid_search_metrics(Grid_RF)"
      ],
      "metadata": {
        "colab": {
          "base_uri": "https://localhost:8080/"
        },
        "id": "lA0FDVtA4JOj",
        "outputId": "c12fd273-9411-424e-d5aa-9e3c7c222b34"
      },
      "execution_count": null,
      "outputs": [
        {
          "output_type": "stream",
          "name": "stdout",
          "text": [
            "Best score: 0.8645333333333334\n",
            "Best parameters set:\n",
            "max_depth:10\n",
            "n_estimators:100\n"
          ]
        }
      ]
    },
    {
      "cell_type": "code",
      "source": [
        "# Best random forest\n",
        "best_RF_model = Grid_RF.best_estimator_"
      ],
      "metadata": {
        "id": "EX0ZEL-c4Kei"
      },
      "execution_count": null,
      "outputs": []
    },
    {
      "cell_type": "code",
      "source": [
        "best_RF_model"
      ],
      "metadata": {
        "colab": {
          "base_uri": "https://localhost:8080/"
        },
        "id": "_J6e39JI4Lw5",
        "outputId": "10321251-6566-4756-aebc-3289ec80aa24"
      },
      "execution_count": null,
      "outputs": [
        {
          "output_type": "execute_result",
          "data": {
            "text/plain": [
              "RandomForestClassifier(max_depth=10)"
            ]
          },
          "metadata": {},
          "execution_count": 92
        }
      ]
    },
    {
      "cell_type": "markdown",
      "source": [
        "## 5.3 K Nearest Neighbors"
      ],
      "metadata": {
        "id": "a7-bIa1P5BuW"
      }
    },
    {
      "cell_type": "code",
      "source": [
        "# Possible hyperparamter options for KNN\n",
        "# Choose k\n",
        "parameters = {\n",
        "    'n_neighbors':[1, 3, 5, 7, 9, 10, 11, 12]\n",
        "}\n",
        "# n_neighbors: number of neighbors"
      ],
      "metadata": {
        "id": "ReCsSCFg5NI0"
      },
      "execution_count": null,
      "outputs": []
    },
    {
      "cell_type": "code",
      "source": [
        "Grid_KNN = GridSearchCV(KNeighborsClassifier(), parameters, cv=5)\n",
        "Grid_KNN.fit(X_train, y_train)"
      ],
      "metadata": {
        "colab": {
          "base_uri": "https://localhost:8080/"
        },
        "id": "EIZC7SHv5Pt7",
        "outputId": "a4ed04fa-1469-4338-ded9-af717b4396ec"
      },
      "execution_count": null,
      "outputs": [
        {
          "output_type": "execute_result",
          "data": {
            "text/plain": [
              "GridSearchCV(cv=5, estimator=KNeighborsClassifier(),\n",
              "             param_grid={'n_neighbors': [1, 3, 5, 7, 9, 10, 11, 12]})"
            ]
          },
          "metadata": {},
          "execution_count": 103
        }
      ]
    },
    {
      "cell_type": "code",
      "source": [
        "# best k\n",
        "print_grid_search_metrics(Grid_KNN)\n",
        "# can further check whether n_neighbors is 10, 11, 12 ... is better"
      ],
      "metadata": {
        "colab": {
          "base_uri": "https://localhost:8080/"
        },
        "id": "rPFJRD0K5XDb",
        "outputId": "5ed6febf-f981-4eae-de6c-4f6a9ede34a5"
      },
      "execution_count": null,
      "outputs": [
        {
          "output_type": "stream",
          "name": "stdout",
          "text": [
            "Best score: 0.8445333333333332\n",
            "Best parameters set:\n",
            "n_neighbors:11\n"
          ]
        }
      ]
    },
    {
      "cell_type": "code",
      "source": [
        "best_KNN_model = Grid_KNN.best_estimator_"
      ],
      "metadata": {
        "id": "jqLSRdxd9d8l"
      },
      "execution_count": null,
      "outputs": []
    },
    {
      "cell_type": "markdown",
      "source": [
        "# Part 6. Model Evaluation"
      ],
      "metadata": {
        "id": "7mIDmjRb9w8n"
      }
    },
    {
      "cell_type": "markdown",
      "source": [
        "## 6.1 Evaluation on Confusion Matrix (Precision, Recall, Accuracy)"
      ],
      "metadata": {
        "id": "UKoSMPWq91Go"
      }
    },
    {
      "cell_type": "code",
      "source": [
        "def cal_evaluation(classifier, cm):\n",
        "    \"\"\"\n",
        "    Function calculates accuracy, precision and recall scores.\n",
        "    \"\"\"\n",
        "    tn = cm[0][0]\n",
        "    fp = cm[0][1]\n",
        "    fn = cm[1][0]\n",
        "    tp = cm[1][1]\n",
        "    accuracy  = (tp + tn) / (tp + fp + fn + tn + 0.0)\n",
        "    precision = tp / (tp + fp + 0.0) # 0.0 \n",
        "    recall = tp / (tp + fn + 0.0)\n",
        "    print (classifier)\n",
        "    print (\"Accuracy: \" + str(accuracy))\n",
        "    print (\"Precision: \" + str(precision))\n",
        "    print (\"Recall: \" + str(recall))\n",
        "    print ()\n",
        "\n",
        "def draw_confusion_matrices(confusion_matricies):\n",
        "    \"\"\"\n",
        "    Function prints out confusion matrices.\n",
        "    \"\"\"\n",
        "    class_names = ['Not','Churn']\n",
        "    for cm in confusion_matrices:\n",
        "        classifier, cm = cm[0], cm[1]\n",
        "        cal_evaluation(classifier, cm)"
      ],
      "metadata": {
        "id": "6xecesD9-IyH"
      },
      "execution_count": null,
      "outputs": []
    },
    {
      "cell_type": "code",
      "source": [
        "# Confusion matrix, accuracy, precison and recall \n",
        "#    for random forest, KNN and logistic regression\n",
        "confusion_matrices = [\n",
        "    (\"Random Forest\", confusion_matrix(y_test,best_RF_model.predict(X_test))),\n",
        "    (\"K Nearest Neighbor\", confusion_matrix(y_test, best_KNN_model.predict(X_test))),\n",
        "    (\"Logistic Regression\", confusion_matrix(y_test,best_LR_model.predict(X_test)))\n",
        "]\n",
        "\n",
        "draw_confusion_matrices(confusion_matrices)\n",
        "# Basically, random forest model is better than logistic regression model，\n",
        "# because random forest is a more complicated model，\n",
        "# if given a large data set, random forest model performs better than logistic regression model."
      ],
      "metadata": {
        "colab": {
          "base_uri": "https://localhost:8080/"
        },
        "id": "5xyICeDQ-TWC",
        "outputId": "b213f7d5-07a8-4753-8f24-b2c839f59707"
      },
      "execution_count": null,
      "outputs": [
        {
          "output_type": "stream",
          "name": "stdout",
          "text": [
            "Random Forest\n",
            "Accuracy: 0.858\n",
            "Precision: 0.7916666666666666\n",
            "Recall: 0.4106090373280943\n",
            "\n",
            "K Nearest Neighbor\n",
            "Accuracy: 0.8424\n",
            "Precision: 0.7446808510638298\n",
            "Recall: 0.343811394891945\n",
            "\n",
            "Logistic Regression\n",
            "Accuracy: 0.8092\n",
            "Precision: 0.5963855421686747\n",
            "Recall: 0.1944990176817289\n",
            "\n"
          ]
        }
      ]
    },
    {
      "cell_type": "markdown",
      "source": [
        "## 6.2 Evaluation on ROC and AUC"
      ],
      "metadata": {
        "id": "az-YEOdJ_vkS"
      }
    },
    {
      "cell_type": "markdown",
      "source": [
        "### 6.2.1 Random Forest "
      ],
      "metadata": {
        "id": "klUBHo6d_9Ip"
      }
    },
    {
      "cell_type": "code",
      "source": [
        "# Use predict_proba to get the probability results of Random Forest\n",
        "y_pred_rf = best_RF_model.predict_proba(X_test)[:, 1]\n",
        "fpr_rf, tpr_rf, _ = roc_curve(y_test, y_pred_rf)\n",
        "\n",
        "# fpr: false positive rate; tpr: true positive rate"
      ],
      "metadata": {
        "id": "MoLJDsgA_1TX"
      },
      "execution_count": null,
      "outputs": []
    },
    {
      "cell_type": "code",
      "source": [
        "best_RF_model.predict_proba(X_test)\n",
        "\n",
        "# first column: probability of non-churn: 0.74997138 label = 0\n",
        "# second column: probability of churn: 0.25002862 label = 1"
      ],
      "metadata": {
        "colab": {
          "base_uri": "https://localhost:8080/"
        },
        "id": "-6eCUIaA_7ZB",
        "outputId": "ff443a28-da53-4ea9-a8f8-96dcbbf0fdc4"
      },
      "execution_count": null,
      "outputs": [
        {
          "output_type": "execute_result",
          "data": {
            "text/plain": [
              "array([[0.74997138, 0.25002862],\n",
              "       [0.93288696, 0.06711304],\n",
              "       [0.76421709, 0.23578291],\n",
              "       ...,\n",
              "       [0.84834464, 0.15165536],\n",
              "       [0.93312087, 0.06687913],\n",
              "       [0.89031538, 0.10968462]])"
            ]
          },
          "metadata": {},
          "execution_count": 119
        }
      ]
    },
    {
      "cell_type": "code",
      "source": [
        "# ROC curve of Random Forest result\n",
        "plt.figure(1)\n",
        "plt.plot([0, 1], [0, 1], 'k--')\n",
        "plt.plot(fpr_rf, tpr_rf, label = 'RF')\n",
        "plt.xlabel('False positive rate')\n",
        "plt.ylabel('True positive rate')\n",
        "plt.title('ROC curve (Random Forest)')\n",
        "plt.legend(loc = 'best')\n",
        "plt.show()"
      ],
      "metadata": {
        "colab": {
          "base_uri": "https://localhost:8080/",
          "height": 295
        },
        "id": "0ktAio5HAafa",
        "outputId": "80982235-905f-4919-868a-2ae12b04c970"
      },
      "execution_count": null,
      "outputs": [
        {
          "output_type": "display_data",
          "data": {
            "text/plain": [
              "<Figure size 432x288 with 1 Axes>"
            ],
            "image/png": "[encoded data removed]"
          },
          "metadata": {
            "needs_background": "light"
          }
        }
      ]
    },
    {
      "cell_type": "code",
      "source": [
        "# AUC score\n",
        "metrics.auc(fpr_rf, tpr_rf)"
      ],
      "metadata": {
        "colab": {
          "base_uri": "https://localhost:8080/"
        },
        "id": "U40GwWw5AwH6",
        "outputId": "e7d53640-331b-4e01-e038-916e92e441ce"
      },
      "execution_count": null,
      "outputs": [
        {
          "output_type": "execute_result",
          "data": {
            "text/plain": [
              "0.8409779173273839"
            ]
          },
          "metadata": {},
          "execution_count": 124
        }
      ]
    },
    {
      "cell_type": "markdown",
      "source": [
        "### 6.2.2 K Nearest Neighbors"
      ],
      "metadata": {
        "id": "BTGpxz6JEVfz"
      }
    },
    {
      "cell_type": "code",
      "source": [
        "# Use predict_proba to get the probability results of Logistic Regression\n",
        "y_pred_KNN = best_KNN_model.predict_proba(X_test)[:, 1]\n",
        "fpr_KNN, tpr_KNN, thresh = roc_curve(y_test, y_pred_KNN)"
      ],
      "metadata": {
        "id": "5sllWbfiEZ-_"
      },
      "execution_count": null,
      "outputs": []
    },
    {
      "cell_type": "code",
      "source": [
        "best_KNN_model.predict_proba(X_test)"
      ],
      "metadata": {
        "colab": {
          "base_uri": "https://localhost:8080/"
        },
        "id": "M2822MtgErB-",
        "outputId": "c71f1187-e45b-4f64-fbe6-5457569c7f77"
      },
      "execution_count": null,
      "outputs": [
        {
          "output_type": "execute_result",
          "data": {
            "text/plain": [
              "array([[0.90909091, 0.09090909],\n",
              "       [1.        , 0.        ],\n",
              "       [0.81818182, 0.18181818],\n",
              "       ...,\n",
              "       [0.81818182, 0.18181818],\n",
              "       [1.        , 0.        ],\n",
              "       [1.        , 0.        ]])"
            ]
          },
          "metadata": {},
          "execution_count": 132
        }
      ]
    },
    {
      "cell_type": "code",
      "source": [
        "# ROC Curve\n",
        "plt.figure(1)\n",
        "plt.plot([0, 1], [0, 1], 'k--')\n",
        "plt.plot(fpr_KNN, tpr_KNN, label = 'KNN')\n",
        "plt.xlabel('False positive rate')\n",
        "plt.ylabel('True positive rate')\n",
        "plt.title('ROC curve (K Nearest Neighbors)')\n",
        "plt.legend(loc = 'best')\n",
        "plt.show()"
      ],
      "metadata": {
        "colab": {
          "base_uri": "https://localhost:8080/",
          "height": 295
        },
        "id": "6Fd5enhFEt0o",
        "outputId": "6d408ac9-95c9-4ed4-85fe-97c24f370003"
      },
      "execution_count": null,
      "outputs": [
        {
          "output_type": "display_data",
          "data": {
            "text/plain": [
              "<Figure size 432x288 with 1 Axes>"
            ],
            "image/png": "[encoded data removed]"
          },
          "metadata": {
            "needs_background": "light"
          }
        }
      ]
    },
    {
      "cell_type": "code",
      "source": [
        "# AUC score\n",
        "metrics.auc(fpr_KNN, tpr_KNN)"
      ],
      "metadata": {
        "colab": {
          "base_uri": "https://localhost:8080/"
        },
        "id": "gTPp91_fE6Sr",
        "outputId": "c61bab34-b425-4ffd-ab50-e3cb0bc1f845"
      },
      "execution_count": null,
      "outputs": [
        {
          "output_type": "execute_result",
          "data": {
            "text/plain": [
              "0.7979700400327998"
            ]
          },
          "metadata": {},
          "execution_count": 134
        }
      ]
    },
    {
      "cell_type": "markdown",
      "source": [
        "### 6.2.3 Logistic Regression"
      ],
      "metadata": {
        "id": "KhfaponSFIa9"
      }
    },
    {
      "cell_type": "code",
      "source": [
        "# Use predict_proba to get the probability results of Logistic Regression\n",
        "y_pred_lr = best_LR_model.predict_proba(X_test)[:, 1]\n",
        "fpr_lr, tpr_lr, thresh = roc_curve(y_test, y_pred_lr)"
      ],
      "metadata": {
        "id": "JvowS2ehFNF6"
      },
      "execution_count": null,
      "outputs": []
    },
    {
      "cell_type": "code",
      "source": [
        "best_LR_model.predict_proba(X_test)"
      ],
      "metadata": {
        "colab": {
          "base_uri": "https://localhost:8080/"
        },
        "id": "h_D7b7fdFO1H",
        "outputId": "d7d20c43-a9cc-45e9-99b2-fd265e3633ed"
      },
      "execution_count": null,
      "outputs": [
        {
          "output_type": "execute_result",
          "data": {
            "text/plain": [
              "array([[0.82436321, 0.17563679],\n",
              "       [0.9317162 , 0.0682838 ],\n",
              "       [0.85520556, 0.14479444],\n",
              "       ...,\n",
              "       [0.71449719, 0.28550281],\n",
              "       [0.89278751, 0.10721249],\n",
              "       [0.85560802, 0.14439198]])"
            ]
          },
          "metadata": {},
          "execution_count": 136
        }
      ]
    },
    {
      "cell_type": "code",
      "source": [
        "# ROC Curve\n",
        "plt.figure(1)\n",
        "plt.plot([0, 1], [0, 1], 'k--')\n",
        "plt.plot(fpr_lr, tpr_lr, label = 'LR')\n",
        "plt.xlabel('False positive rate')\n",
        "plt.ylabel('True positive rate')\n",
        "plt.title('ROC curve (Logistic Regression)')\n",
        "plt.legend(loc = 'best')\n",
        "plt.show()"
      ],
      "metadata": {
        "colab": {
          "base_uri": "https://localhost:8080/",
          "height": 295
        },
        "id": "I33HpL2OFQ6s",
        "outputId": "98916630-49aa-4740-a23a-745bcc654f12"
      },
      "execution_count": null,
      "outputs": [
        {
          "output_type": "display_data",
          "data": {
            "text/plain": [
              "<Figure size 432x288 with 1 Axes>"
            ],
            "image/png": "[encoded data removed]"
          },
          "metadata": {
            "needs_background": "light"
          }
        }
      ]
    },
    {
      "cell_type": "code",
      "source": [
        "# AUC score\n",
        "metrics.auc(fpr_lr, tpr_lr)"
      ],
      "metadata": {
        "colab": {
          "base_uri": "https://localhost:8080/"
        },
        "id": "FW935OG4FSmI",
        "outputId": "c381ca25-2c51-4389-97da-758f20064cd5"
      },
      "execution_count": null,
      "outputs": [
        {
          "output_type": "execute_result",
          "data": {
            "text/plain": [
              "0.7721998502100316"
            ]
          },
          "metadata": {},
          "execution_count": 138
        }
      ]
    },
    {
      "cell_type": "markdown",
      "source": [
        "# Part 7. Feature Importance"
      ],
      "metadata": {
        "id": "It-PvQ5AFaim"
      }
    },
    {
      "cell_type": "code",
      "source": [
        "X_copy = X.copy()\n",
        "\n",
        "X_copy = OneHotEncoding(X_copy, enc_ohe, ['Geography'])\n",
        "X_copy['Gender'] = enc_oe.transform(X_copy[['Gender']])\n",
        "\n",
        "X_copy.head()"
      ],
      "metadata": {
        "colab": {
          "base_uri": "https://localhost:8080/",
          "height": 305
        },
        "id": "6YXPhQPgSji9",
        "outputId": "d17b8372-e35c-4315-a738-e2b1d0dfa84c"
      },
      "execution_count": null,
      "outputs": [
        {
          "output_type": "stream",
          "name": "stderr",
          "text": [
            "/usr/local/lib/python3.7/dist-packages/sklearn/utils/deprecation.py:87: FutureWarning: Function get_feature_names is deprecated; get_feature_names is deprecated in 1.0 and will be removed in 1.2. Please use get_feature_names_out instead.\n",
            "  warnings.warn(msg, category=FutureWarning)\n"
          ]
        },
        {
          "output_type": "execute_result",
          "data": {
            "text/plain": [
              "   CreditScore  Gender  Age  Tenure    Balance  NumOfProducts  HasCrCard  \\\n",
              "0          619     0.0   42       2       0.00              1          1   \n",
              "1          608     0.0   41       1   83807.86              1          0   \n",
              "2          502     0.0   42       8  159660.80              3          1   \n",
              "3          699     0.0   39       1       0.00              2          0   \n",
              "4          850     0.0   43       2  125510.82              1          1   \n",
              "\n",
              "   IsActiveMember  EstimatedSalary  Geography_France  Geography_Germany  \\\n",
              "0               1        101348.88               1.0                0.0   \n",
              "1               1        112542.58               0.0                0.0   \n",
              "2               0        113931.57               1.0                0.0   \n",
              "3               0         93826.63               1.0                0.0   \n",
              "4               1         79084.10               0.0                0.0   \n",
              "\n",
              "   Geography_Spain  \n",
              "0              0.0  \n",
              "1              1.0  \n",
              "2              0.0  \n",
              "3              0.0  \n",
              "4              1.0  "
            ],
            "text/html": [
              "\n",
              "  <div id=\"df-15b04bb1-0449-4e19-85e6-3743b56a764b\">\n",
              "    <div class=\"colab-df-container\">\n",
              "      <div>\n",
              "<style scoped>\n",
              "    .dataframe tbody tr th:only-of-type {\n",
              "        vertical-align: middle;\n",
              "    }\n",
              "\n",
              "    .dataframe tbody tr th {\n",
              "        vertical-align: top;\n",
              "    }\n",
              "\n",
              "    .dataframe thead th {\n",
              "        text-align: right;\n",
              "    }\n",
              "</style>\n",
              "<table border=\"1\" class=\"dataframe\">\n",
              "  <thead>\n",
              "    <tr style=\"text-align: right;\">\n",
              "      <th></th>\n",
              "      <th>CreditScore</th>\n",
              "      <th>Gender</th>\n",
              "      <th>Age</th>\n",
              "      <th>Tenure</th>\n",
              "      <th>Balance</th>\n",
              "      <th>NumOfProducts</th>\n",
              "      <th>HasCrCard</th>\n",
              "      <th>IsActiveMember</th>\n",
              "      <th>EstimatedSalary</th>\n",
              "      <th>Geography_France</th>\n",
              "      <th>Geography_Germany</th>\n",
              "      <th>Geography_Spain</th>\n",
              "    </tr>\n",
              "  </thead>\n",
              "  <tbody>\n",
              "    <tr>\n",
              "      <th>0</th>\n",
              "      <td>619</td>\n",
              "      <td>0.0</td>\n",
              "      <td>42</td>\n",
              "      <td>2</td>\n",
              "      <td>0.00</td>\n",
              "      <td>1</td>\n",
              "      <td>1</td>\n",
              "      <td>1</td>\n",
              "      <td>101348.88</td>\n",
              "      <td>1.0</td>\n",
              "      <td>0.0</td>\n",
              "      <td>0.0</td>\n",
              "    </tr>\n",
              "    <tr>\n",
              "      <th>1</th>\n",
              "      <td>608</td>\n",
              "      <td>0.0</td>\n",
              "      <td>41</td>\n",
              "      <td>1</td>\n",
              "      <td>83807.86</td>\n",
              "      <td>1</td>\n",
              "      <td>0</td>\n",
              "      <td>1</td>\n",
              "      <td>112542.58</td>\n",
              "      <td>0.0</td>\n",
              "      <td>0.0</td>\n",
              "      <td>1.0</td>\n",
              "    </tr>\n",
              "    <tr>\n",
              "      <th>2</th>\n",
              "      <td>502</td>\n",
              "      <td>0.0</td>\n",
              "      <td>42</td>\n",
              "      <td>8</td>\n",
              "      <td>159660.80</td>\n",
              "      <td>3</td>\n",
              "      <td>1</td>\n",
              "      <td>0</td>\n",
              "      <td>113931.57</td>\n",
              "      <td>1.0</td>\n",
              "      <td>0.0</td>\n",
              "      <td>0.0</td>\n",
              "    </tr>\n",
              "    <tr>\n",
              "      <th>3</th>\n",
              "      <td>699</td>\n",
              "      <td>0.0</td>\n",
              "      <td>39</td>\n",
              "      <td>1</td>\n",
              "      <td>0.00</td>\n",
              "      <td>2</td>\n",
              "      <td>0</td>\n",
              "      <td>0</td>\n",
              "      <td>93826.63</td>\n",
              "      <td>1.0</td>\n",
              "      <td>0.0</td>\n",
              "      <td>0.0</td>\n",
              "    </tr>\n",
              "    <tr>\n",
              "      <th>4</th>\n",
              "      <td>850</td>\n",
              "      <td>0.0</td>\n",
              "      <td>43</td>\n",
              "      <td>2</td>\n",
              "      <td>125510.82</td>\n",
              "      <td>1</td>\n",
              "      <td>1</td>\n",
              "      <td>1</td>\n",
              "      <td>79084.10</td>\n",
              "      <td>0.0</td>\n",
              "      <td>0.0</td>\n",
              "      <td>1.0</td>\n",
              "    </tr>\n",
              "  </tbody>\n",
              "</table>\n",
              "</div>\n",
              "      <button class=\"colab-df-convert\" onclick=\"convertToInteractive('df-15b04bb1-0449-4e19-85e6-3743b56a764b')\"\n",
              "              title=\"Convert this dataframe to an interactive table.\"\n",
              "              style=\"display:none;\">\n",
              "        \n",
              "  <svg xmlns=\"http://www.w3.org/2000/svg\" height=\"24px\"viewBox=\"0 0 24 24\"\n",
              "       width=\"24px\">\n",
              "    <path d=\"M0 0h24v24H0V0z\" fill=\"none\"/>\n",
              "    <path d=\"M18.56 5.44l.94 2.06.94-2.06 2.06-.94-2.06-.94-.94-2.06-.94 2.06-2.06.94zm-11 1L8.5 8.5l.94-2.06 2.06-.94-2.06-.94L8.5 2.5l-.94 2.06-2.06.94zm10 10l.94 2.06.94-2.06 2.06-.94-2.06-.94-.94-2.06-.94 2.06-2.06.94z\"/><path d=\"M17.41 7.96l-1.37-1.37c-.4-.4-.92-.59-1.43-.59-.52 0-1.04.2-1.43.59L10.3 9.45l-7.72 7.72c-.78.78-.78 2.05 0 2.83L4 21.41c.39.39.9.59 1.41.59.51 0 1.02-.2 1.41-.59l7.78-7.78 2.81-2.81c.8-.78.8-2.07 0-2.86zM5.41 20L4 18.59l7.72-7.72 1.47 1.35L5.41 20z\"/>\n",
              "  </svg>\n",
              "      </button>\n",
              "      \n",
              "  <style>\n",
              "    .colab-df-container {\n",
              "      display:flex;\n",
              "      flex-wrap:wrap;\n",
              "      gap: 12px;\n",
              "    }\n",
              "\n",
              "    .colab-df-convert {\n",
              "      background-color: #E8F0FE;\n",
              "      border: none;\n",
              "      border-radius: 50%;\n",
              "      cursor: pointer;\n",
              "      display: none;\n",
              "      fill: #1967D2;\n",
              "      height: 32px;\n",
              "      padding: 0 0 0 0;\n",
              "      width: 32px;\n",
              "    }\n",
              "\n",
              "    .colab-df-convert:hover {\n",
              "      background-color: #E2EBFA;\n",
              "      box-shadow: 0px 1px 2px rgba(60, 64, 67, 0.3), 0px 1px 3px 1px rgba(60, 64, 67, 0.15);\n",
              "      fill: #174EA6;\n",
              "    }\n",
              "\n",
              "    [theme=dark] .colab-df-convert {\n",
              "      background-color: #3B4455;\n",
              "      fill: #D2E3FC;\n",
              "    }\n",
              "\n",
              "    [theme=dark] .colab-df-convert:hover {\n",
              "      background-color: #434B5C;\n",
              "      box-shadow: 0px 1px 3px 1px rgba(0, 0, 0, 0.15);\n",
              "      filter: drop-shadow(0px 1px 2px rgba(0, 0, 0, 0.3));\n",
              "      fill: #FFFFFF;\n",
              "    }\n",
              "  </style>\n",
              "\n",
              "      <script>\n",
              "        const buttonEl =\n",
              "          document.querySelector('#df-15b04bb1-0449-4e19-85e6-3743b56a764b button.colab-df-convert');\n",
              "        buttonEl.style.display =\n",
              "          google.colab.kernel.accessAllowed ? 'block' : 'none';\n",
              "\n",
              "        async function convertToInteractive(key) {\n",
              "          const element = document.querySelector('#df-15b04bb1-0449-4e19-85e6-3743b56a764b');\n",
              "          const dataTable =\n",
              "            await google.colab.kernel.invokeFunction('convertToInteractive',\n",
              "                                                     [key], {});\n",
              "          if (!dataTable) return;\n",
              "\n",
              "          const docLinkHtml = 'Like what you see? Visit the ' +\n",
              "            '<a target=\"_blank\" href=https://colab.research.google.com/notebooks/data_table.ipynb>data table notebook</a>'\n",
              "            + ' to learn more about interactive tables.';\n",
              "          element.innerHTML = '';\n",
              "          dataTable['output_type'] = 'display_data';\n",
              "          await google.colab.output.renderOutput(dataTable, element);\n",
              "          const docLink = document.createElement('div');\n",
              "          docLink.innerHTML = docLinkHtml;\n",
              "          element.appendChild(docLink);\n",
              "        }\n",
              "      </script>\n",
              "    </div>\n",
              "  </div>\n",
              "  "
            ]
          },
          "metadata": {},
          "execution_count": 159
        }
      ]
    },
    {
      "cell_type": "code",
      "source": [
        "# Add L1 regularization to Logistic Regression\n",
        "# Check the coefficients\n",
        "\n",
        "# L1 may have different coefficients for each run, it does not fix the coefficients for strongly correlated variables\n",
        "\n",
        "scaler = StandardScaler()\n",
        "X_l1 = scaler.fit_transform(X_copy)\n",
        "LRmodel_l1 = LogisticRegression(penalty = \"l1\", C = 0.04, solver = 'liblinear')\n",
        "LRmodel_l1.fit(X_l1, y)\n",
        "\n",
        "indices = np.argsort(abs(LRmodel_l1.coef_[0]))[::-1]\n",
        "\n",
        "print (\"Logistic Regression (L1) Coefficients\")\n",
        "for ind in range(X_copy.shape[1]):\n",
        "  print (\"{0} : {1}\".format(X_copy.columns[indices[ind]], round(LRmodel_l1.coef_[0][indices[ind]], 4)))\n",
        "\n"
      ],
      "metadata": {
        "colab": {
          "base_uri": "https://localhost:8080/"
        },
        "id": "h1KcTqLtPHIE",
        "outputId": "66ff56c2-7c88-453c-ba3c-5a4772ae6505"
      },
      "execution_count": null,
      "outputs": [
        {
          "output_type": "stream",
          "name": "stdout",
          "text": [
            "Logistic Regression (L1) Coefficients\n",
            "Age : 0.7612\n",
            "IsActiveMember : -0.5361\n",
            "Geography_Germany : 0.3202\n",
            "Gender : -0.2622\n",
            "Balance : 0.164\n",
            "CreditScore : -0.0638\n",
            "NumOfProducts : -0.0584\n",
            "Tenure : -0.0453\n",
            "EstimatedSalary : 0.0269\n",
            "HasCrCard : -0.0196\n",
            "Geography_France : -0.0171\n",
            "Geography_Spain : 0.0\n"
          ]
        }
      ]
    },
    {
      "cell_type": "code",
      "source": [
        "# Add L2 regularization to logistic regression\n",
        "# Check the coefficients\n",
        "\n",
        "# L2 has the only one optimized solution, because it fixes the coefficients for two strongly coreelated variables\n",
        "\n",
        "np.random.seed()\n",
        "scaler = StandardScaler()\n",
        "X_l2 = scaler.fit_transform(X_copy)\n",
        "LRmodel_l2 = LogisticRegression(penalty = \"l2\", C = 0.1, solver = 'liblinear', random_state = 22)\n",
        "LRmodel_l2.fit(X_l2, y)\n",
        "LRmodel_l2.coef_[0]\n",
        "\n",
        "indices = np.argsort(abs(LRmodel_l2.coef_[0]))[::-1]\n",
        "\n",
        "print (\"Logistic Regression (L2) Coefficients\")\n",
        "for ind in range(X_copy.shape[1]):\n",
        "  print (\"{0} : {1}\".format(X_copy.columns[indices[ind]], round(LRmodel_l2.coef_[0][indices[ind]], 4)))"
      ],
      "metadata": {
        "colab": {
          "base_uri": "https://localhost:8080/"
        },
        "id": "5xFIIAJvTsui",
        "outputId": "0aff69cc-f066-4c06-e8e7-207effc22937"
      },
      "execution_count": null,
      "outputs": [
        {
          "output_type": "stream",
          "name": "stdout",
          "text": [
            "Logistic Regression (L2) Coefficients\n",
            "Age : 0.751\n",
            "IsActiveMember : -0.5272\n",
            "Gender : -0.2591\n",
            "Geography_Germany : 0.2279\n",
            "Balance : 0.162\n",
            "Geography_France : -0.1207\n",
            "Geography_Spain : -0.089\n",
            "CreditScore : -0.0637\n",
            "NumOfProducts : -0.0586\n",
            "Tenure : -0.0452\n",
            "EstimatedSalary : 0.0272\n",
            "HasCrCard : -0.0199\n"
          ]
        }
      ]
    },
    {
      "cell_type": "code",
      "source": [
        "# Check feature importance of random forest (feature selection)\n",
        "forest = RandomForestClassifier()\n",
        "forest.fit(X_copy, y)\n",
        "\n",
        "importances = forest.feature_importances_\n",
        "\n",
        "indices = np.argsort(importances)[::-1]\n",
        "\n",
        "# Print the feature ranking\n",
        "print(\"Feature importance ranking by Random Forest Model:\")\n",
        "for ind in range(X_copy.shape[1]):\n",
        "  print (\"{0} : {1}\".format(X_copy.columns[indices[ind]], round(importances[indices[ind]], 4)))\n"
      ],
      "metadata": {
        "colab": {
          "base_uri": "https://localhost:8080/"
        },
        "id": "YnSuUfRGUYuQ",
        "outputId": "fefc9e36-f1b9-409c-f9b7-6831405cf290"
      },
      "execution_count": null,
      "outputs": [
        {
          "output_type": "stream",
          "name": "stdout",
          "text": [
            "Feature importance ranking by Random Forest Model:\n",
            "Age : 0.2409\n",
            "EstimatedSalary : 0.1473\n",
            "CreditScore : 0.1447\n",
            "Balance : 0.1405\n",
            "NumOfProducts : 0.1305\n",
            "Tenure : 0.0815\n",
            "IsActiveMember : 0.0407\n",
            "Geography_Germany : 0.0198\n",
            "Gender : 0.0181\n",
            "HasCrCard : 0.0175\n",
            "Geography_France : 0.0095\n",
            "Geography_Spain : 0.0092\n"
          ]
        }
      ]
    },
    {
      "cell_type": "markdown",
      "source": [
        "KNeighborsClassifier does not have the attribute 'feature_importances', therefore, we don't do the feature importance in KNN model."
      ],
      "metadata": {
        "id": "vgCYjLvCV2Cx"
      }
    },
    {
      "cell_type": "markdown",
      "source": [
        "# Part 8: Conclusion"
      ],
      "metadata": {
        "id": "Ye9ZRd-XLH7v"
      }
    },
    {
      "cell_type": "markdown",
      "source": [
        "'Age' is the most important feature. It is intuitive because when people get older, they tend to churn. The other potential important features are: 'IsActiveMember', 'EstimatedSalary', 'CreditScore', 'NumOfProducts' and 'Balance'."
      ],
      "metadata": {
        "id": "8ZBXvSBGJZm8"
      }
    }
  ]
}